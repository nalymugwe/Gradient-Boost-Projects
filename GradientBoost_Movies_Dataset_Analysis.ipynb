{
  "nbformat": 4,
  "nbformat_minor": 5,
  "metadata": {
    "kernelspec": {
      "display_name": "Python 3",
      "language": "python",
      "name": "python3"
    },
    "language_info": {
      "codemirror_mode": {
        "name": "ipython",
        "version": 3
      },
      "file_extension": ".py",
      "mimetype": "text/x-python",
      "name": "python",
      "nbconvert_exporter": "python",
      "pygments_lexer": "ipython3",
      "version": "3.8.8"
    },
    "colab": {
      "name": "GradientBoost Movies Dataset Analysis.ipynb",
      "provenance": [],
      "collapsed_sections": [],
      "include_colab_link": true
    }
  },
  "cells": [
    {
      "cell_type": "markdown",
      "metadata": {
        "id": "view-in-github",
        "colab_type": "text"
      },
      "source": [
        "<a href=\"https://colab.research.google.com/github/nalymugwe/Gradient-Boost-Projects/blob/main/GradientBoost_Movies_Dataset_Analysis.ipynb\" target=\"_parent\"><img src=\"https://colab.research.google.com/assets/colab-badge.svg\" alt=\"Open In Colab\"/></a>"
      ]
    },
    {
      "cell_type": "markdown",
      "metadata": {
        "id": "00f6116b"
      },
      "source": [
        "# Scraping Data using rapid-API"
      ],
      "id": "00f6116b"
    },
    {
      "cell_type": "markdown",
      "metadata": {
        "id": "5f5674b7"
      },
      "source": [
        "Downloadable data: https://www.imdb.com/interfaces/\n",
        "\n",
        "API profile registration: https://imdb-api.com/api/#Search-header\n",
        "\n",
        "All the urls: https://imdb-api.com/api/#Search-header"
      ],
      "id": "5f5674b7"
    },
    {
      "cell_type": "code",
      "metadata": {
        "id": "43b8cc45"
      },
      "source": [
        "# Import data wranglers\n",
        "\n",
        "import pandas as pd # data frame\n",
        "import requests # gets the messy data for you\n",
        "import json # much familiar with python syntax and structure\n",
        "from getpass import getpass # if you want to hide your key on your scripts"
      ],
      "id": "43b8cc45",
      "execution_count": 1,
      "outputs": []
    },
    {
      "cell_type": "code",
      "metadata": {
        "id": "14bbe22f",
        "colab": {
          "base_uri": "https://localhost:8080/"
        },
        "outputId": "20492e79-903b-4694-fd40-8580954b0103"
      },
      "source": [
        "# Scrap the Most Popular Movies\n",
        "def Movies():\n",
        " \n",
        "    url = \"https://imdb-api.com/en/API/MostPopularMovies/k_15w0b62m\" # dont forget to add your own API key\n",
        "\n",
        "    headers = {\n",
        "            'x-rapidapi-host': \"imdb-api1.p.rapidapi.com\",\n",
        "            'x-rapidapi-key': str(getpass(\"Please enter an api-key:\\n\"))  # You can remove 'getpass' and just add your api as a str\n",
        "            }\n",
        "\n",
        "    response = requests.get(url, headers=headers) # geting the data using request library\n",
        "    \n",
        "    movie_list = response.json() # json file is more readable, which recognise it as a dictionary\n",
        "    \n",
        "    movies_data = movie_list['items'] # \"'items' is the key to all those movie data\"\n",
        "     \n",
        "    df = pd.DataFrame(movies_data) # you can play around with loobs here if you want to practice both pandas and loops\n",
        "    \n",
        "    return df\n",
        "\n",
        "PopularMovies = Movies()"
      ],
      "id": "14bbe22f",
      "execution_count": 2,
      "outputs": [
        {
          "name": "stdout",
          "output_type": "stream",
          "text": [
            "Please enter an api-key:\n",
            "··········\n"
          ]
        }
      ]
    },
    {
      "cell_type": "code",
      "metadata": {
        "colab": {
          "base_uri": "https://localhost:8080/",
          "height": 289
        },
        "id": "67dec8f7",
        "outputId": "fcd7f7a7-24f7-4a25-f9d6-e93cb31aae18"
      },
      "source": [
        "#View the data set\n",
        "PopularMovies.head()"
      ],
      "id": "67dec8f7",
      "execution_count": 3,
      "outputs": [
        {
          "output_type": "execute_result",
          "data": {
            "text/html": [
              "<div>\n",
              "<style scoped>\n",
              "    .dataframe tbody tr th:only-of-type {\n",
              "        vertical-align: middle;\n",
              "    }\n",
              "\n",
              "    .dataframe tbody tr th {\n",
              "        vertical-align: top;\n",
              "    }\n",
              "\n",
              "    .dataframe thead th {\n",
              "        text-align: right;\n",
              "    }\n",
              "</style>\n",
              "<table border=\"1\" class=\"dataframe\">\n",
              "  <thead>\n",
              "    <tr style=\"text-align: right;\">\n",
              "      <th></th>\n",
              "      <th>id</th>\n",
              "      <th>rank</th>\n",
              "      <th>rankUpDown</th>\n",
              "      <th>title</th>\n",
              "      <th>fullTitle</th>\n",
              "      <th>year</th>\n",
              "      <th>image</th>\n",
              "      <th>crew</th>\n",
              "      <th>imDbRating</th>\n",
              "      <th>imDbRatingCount</th>\n",
              "    </tr>\n",
              "  </thead>\n",
              "  <tbody>\n",
              "    <tr>\n",
              "      <th>0</th>\n",
              "      <td>tt1160419</td>\n",
              "      <td>1</td>\n",
              "      <td>+1</td>\n",
              "      <td>Dune</td>\n",
              "      <td>Dune (2021)</td>\n",
              "      <td>2021</td>\n",
              "      <td>https://m.media-amazon.com/images/M/MV5BN2FjNm...</td>\n",
              "      <td>Denis Villeneuve (dir.), Timothée Chalamet, Re...</td>\n",
              "      <td>8.3</td>\n",
              "      <td>224873</td>\n",
              "    </tr>\n",
              "    <tr>\n",
              "      <th>1</th>\n",
              "      <td>tt1877830</td>\n",
              "      <td>2</td>\n",
              "      <td>+35</td>\n",
              "      <td>The Batman</td>\n",
              "      <td>The Batman (2022)</td>\n",
              "      <td>2022</td>\n",
              "      <td>https://m.media-amazon.com/images/M/MV5BYTExZT...</td>\n",
              "      <td>Matt Reeves (dir.), Zoë Kravitz, Paul Dano</td>\n",
              "      <td></td>\n",
              "      <td>0</td>\n",
              "    </tr>\n",
              "    <tr>\n",
              "      <th>2</th>\n",
              "      <td>tt10665338</td>\n",
              "      <td>3</td>\n",
              "      <td>0</td>\n",
              "      <td>Halloween Kills</td>\n",
              "      <td>Halloween Kills (2021)</td>\n",
              "      <td>2021</td>\n",
              "      <td>https://m.media-amazon.com/images/M/MV5BM2RmMG...</td>\n",
              "      <td>David Gordon Green (dir.), Jamie Lee Curtis, J...</td>\n",
              "      <td>5.8</td>\n",
              "      <td>43041</td>\n",
              "    </tr>\n",
              "    <tr>\n",
              "      <th>3</th>\n",
              "      <td>tt2382320</td>\n",
              "      <td>4</td>\n",
              "      <td>-3</td>\n",
              "      <td>No Time to Die</td>\n",
              "      <td>No Time to Die (2021)</td>\n",
              "      <td>2021</td>\n",
              "      <td>https://m.media-amazon.com/images/M/MV5BYWQ2Nz...</td>\n",
              "      <td>Cary Joji Fukunaga (dir.), Daniel Craig, Ana d...</td>\n",
              "      <td>7.6</td>\n",
              "      <td>134014</td>\n",
              "    </tr>\n",
              "    <tr>\n",
              "      <th>4</th>\n",
              "      <td>tt4244994</td>\n",
              "      <td>5</td>\n",
              "      <td>0</td>\n",
              "      <td>The Last Duel</td>\n",
              "      <td>The Last Duel (2021)</td>\n",
              "      <td>2021</td>\n",
              "      <td>https://m.media-amazon.com/images/M/MV5BZGExZT...</td>\n",
              "      <td>Ridley Scott (dir.), Matt Damon, Adam Driver</td>\n",
              "      <td>7.7</td>\n",
              "      <td>16384</td>\n",
              "    </tr>\n",
              "  </tbody>\n",
              "</table>\n",
              "</div>"
            ],
            "text/plain": [
              "           id rank  ... imDbRating imDbRatingCount\n",
              "0   tt1160419    1  ...        8.3          224873\n",
              "1   tt1877830    2  ...                          0\n",
              "2  tt10665338    3  ...        5.8           43041\n",
              "3   tt2382320    4  ...        7.6          134014\n",
              "4   tt4244994    5  ...        7.7           16384\n",
              "\n",
              "[5 rows x 10 columns]"
            ]
          },
          "metadata": {},
          "execution_count": 3
        }
      ]
    },
    {
      "cell_type": "code",
      "metadata": {
        "colab": {
          "base_uri": "https://localhost:8080/"
        },
        "id": "JI7vygvmyT7d",
        "outputId": "198a8ed3-0378-4b5f-9fb2-7f42defe6ba5"
      },
      "source": [
        "# Check info of the Popular Movies DataSet\n",
        "PopularMovies.info()"
      ],
      "id": "JI7vygvmyT7d",
      "execution_count": 4,
      "outputs": [
        {
          "output_type": "stream",
          "name": "stdout",
          "text": [
            "<class 'pandas.core.frame.DataFrame'>\n",
            "RangeIndex: 100 entries, 0 to 99\n",
            "Data columns (total 10 columns):\n",
            " #   Column           Non-Null Count  Dtype \n",
            "---  ------           --------------  ----- \n",
            " 0   id               100 non-null    object\n",
            " 1   rank             100 non-null    object\n",
            " 2   rankUpDown       100 non-null    object\n",
            " 3   title            100 non-null    object\n",
            " 4   fullTitle        100 non-null    object\n",
            " 5   year             100 non-null    object\n",
            " 6   image            100 non-null    object\n",
            " 7   crew             100 non-null    object\n",
            " 8   imDbRating       100 non-null    object\n",
            " 9   imDbRatingCount  100 non-null    object\n",
            "dtypes: object(10)\n",
            "memory usage: 7.9+ KB\n"
          ]
        }
      ]
    },
    {
      "cell_type": "code",
      "metadata": {
        "id": "ec9cfe23",
        "colab": {
          "base_uri": "https://localhost:8080/"
        },
        "outputId": "58b98720-466e-47bf-a14b-3e085265e3c2"
      },
      "source": [
        "# Scrap the Top 250 Movies\n",
        "\n",
        "def Top250Movies():\n",
        " \n",
        "    url = \"https://imdb-api.com/en/API/Top250Movies/k_15w0b62m\" # dont forget to add your own API key\n",
        "\n",
        "    headers = {\n",
        "            'x-rapidapi-host': \"imdb-api1.p.rapidapi.com\",\n",
        "            'x-rapidapi-key': str(getpass(\"Please enter an api-key:\\n\"))  # You can remove 'getpass' and just add your api as a str\n",
        "            }\n",
        "\n",
        "    response = requests.get(url, headers=headers) # geting the data using request library\n",
        "    \n",
        "    movie250_list = response.json() # json file is more readable, which recognise it as a dictionary\n",
        "    \n",
        "    movie250_data = movie250_list['items'] # \"'items' is the key to all those TV shows data\"\n",
        "     \n",
        "    df = pd.DataFrame(movie250_data) # you can play around with loobs here if you want to practice both pandas and loops\n",
        "    \n",
        "    return df\n",
        "\n",
        "Top250MoviesData = Top250Movies()"
      ],
      "id": "ec9cfe23",
      "execution_count": 5,
      "outputs": [
        {
          "name": "stdout",
          "output_type": "stream",
          "text": [
            "Please enter an api-key:\n",
            "··········\n"
          ]
        }
      ]
    },
    {
      "cell_type": "code",
      "metadata": {
        "colab": {
          "base_uri": "https://localhost:8080/",
          "height": 289
        },
        "id": "7KU7gka5voOL",
        "outputId": "5b87a818-a63d-4f22-aac7-00cd7d240be8"
      },
      "source": [
        "# View the data set\n",
        "Top250MoviesData.head()"
      ],
      "id": "7KU7gka5voOL",
      "execution_count": 6,
      "outputs": [
        {
          "output_type": "execute_result",
          "data": {
            "text/html": [
              "<div>\n",
              "<style scoped>\n",
              "    .dataframe tbody tr th:only-of-type {\n",
              "        vertical-align: middle;\n",
              "    }\n",
              "\n",
              "    .dataframe tbody tr th {\n",
              "        vertical-align: top;\n",
              "    }\n",
              "\n",
              "    .dataframe thead th {\n",
              "        text-align: right;\n",
              "    }\n",
              "</style>\n",
              "<table border=\"1\" class=\"dataframe\">\n",
              "  <thead>\n",
              "    <tr style=\"text-align: right;\">\n",
              "      <th></th>\n",
              "      <th>id</th>\n",
              "      <th>rank</th>\n",
              "      <th>title</th>\n",
              "      <th>fullTitle</th>\n",
              "      <th>year</th>\n",
              "      <th>image</th>\n",
              "      <th>crew</th>\n",
              "      <th>imDbRating</th>\n",
              "      <th>imDbRatingCount</th>\n",
              "    </tr>\n",
              "  </thead>\n",
              "  <tbody>\n",
              "    <tr>\n",
              "      <th>0</th>\n",
              "      <td>tt0111161</td>\n",
              "      <td>1</td>\n",
              "      <td>The Shawshank Redemption</td>\n",
              "      <td>The Shawshank Redemption (1994)</td>\n",
              "      <td>1994</td>\n",
              "      <td>https://imdb-api.com/images/original/MV5BMDFkY...</td>\n",
              "      <td>Frank Darabont (dir.), Tim Robbins, Morgan Fre...</td>\n",
              "      <td>9.2</td>\n",
              "      <td>2478969</td>\n",
              "    </tr>\n",
              "    <tr>\n",
              "      <th>1</th>\n",
              "      <td>tt0068646</td>\n",
              "      <td>2</td>\n",
              "      <td>The Godfather</td>\n",
              "      <td>The Godfather (1972)</td>\n",
              "      <td>1972</td>\n",
              "      <td>https://imdb-api.com/images/original/MV5BM2MyN...</td>\n",
              "      <td>Francis Ford Coppola (dir.), Marlon Brando, Al...</td>\n",
              "      <td>9.1</td>\n",
              "      <td>1712338</td>\n",
              "    </tr>\n",
              "    <tr>\n",
              "      <th>2</th>\n",
              "      <td>tt0071562</td>\n",
              "      <td>3</td>\n",
              "      <td>The Godfather: Part II</td>\n",
              "      <td>The Godfather: Part II (1974)</td>\n",
              "      <td>1974</td>\n",
              "      <td>https://imdb-api.com/images/original/MV5BMWMwM...</td>\n",
              "      <td>Francis Ford Coppola (dir.), Al Pacino, Robert...</td>\n",
              "      <td>9.0</td>\n",
              "      <td>1189450</td>\n",
              "    </tr>\n",
              "    <tr>\n",
              "      <th>3</th>\n",
              "      <td>tt0468569</td>\n",
              "      <td>4</td>\n",
              "      <td>The Dark Knight</td>\n",
              "      <td>The Dark Knight (2008)</td>\n",
              "      <td>2008</td>\n",
              "      <td>https://imdb-api.com/images/original/MV5BMTMxN...</td>\n",
              "      <td>Christopher Nolan (dir.), Christian Bale, Heat...</td>\n",
              "      <td>9.0</td>\n",
              "      <td>2433236</td>\n",
              "    </tr>\n",
              "    <tr>\n",
              "      <th>4</th>\n",
              "      <td>tt0050083</td>\n",
              "      <td>5</td>\n",
              "      <td>12 Angry Men</td>\n",
              "      <td>12 Angry Men (1957)</td>\n",
              "      <td>1957</td>\n",
              "      <td>https://imdb-api.com/images/original/MV5BMWU4N...</td>\n",
              "      <td>Sidney Lumet (dir.), Henry Fonda, Lee J. Cobb</td>\n",
              "      <td>8.9</td>\n",
              "      <td>733755</td>\n",
              "    </tr>\n",
              "  </tbody>\n",
              "</table>\n",
              "</div>"
            ],
            "text/plain": [
              "          id rank  ... imDbRating imDbRatingCount\n",
              "0  tt0111161    1  ...        9.2         2478969\n",
              "1  tt0068646    2  ...        9.1         1712338\n",
              "2  tt0071562    3  ...        9.0         1189450\n",
              "3  tt0468569    4  ...        9.0         2433236\n",
              "4  tt0050083    5  ...        8.9          733755\n",
              "\n",
              "[5 rows x 9 columns]"
            ]
          },
          "metadata": {},
          "execution_count": 6
        }
      ]
    },
    {
      "cell_type": "code",
      "metadata": {
        "colab": {
          "base_uri": "https://localhost:8080/"
        },
        "id": "RUfpjBZU0DVA",
        "outputId": "c3a52087-da43-4518-e321-ae00ed300a80"
      },
      "source": [
        "Top250MoviesData.info()\n"
      ],
      "id": "RUfpjBZU0DVA",
      "execution_count": 7,
      "outputs": [
        {
          "output_type": "stream",
          "name": "stdout",
          "text": [
            "<class 'pandas.core.frame.DataFrame'>\n",
            "RangeIndex: 250 entries, 0 to 249\n",
            "Data columns (total 9 columns):\n",
            " #   Column           Non-Null Count  Dtype \n",
            "---  ------           --------------  ----- \n",
            " 0   id               250 non-null    object\n",
            " 1   rank             250 non-null    object\n",
            " 2   title            250 non-null    object\n",
            " 3   fullTitle        250 non-null    object\n",
            " 4   year             250 non-null    object\n",
            " 5   image            250 non-null    object\n",
            " 6   crew             250 non-null    object\n",
            " 7   imDbRating       250 non-null    object\n",
            " 8   imDbRatingCount  250 non-null    object\n",
            "dtypes: object(9)\n",
            "memory usage: 17.7+ KB\n"
          ]
        }
      ]
    },
    {
      "cell_type": "code",
      "metadata": {
        "colab": {
          "base_uri": "https://localhost:8080/"
        },
        "id": "HLFUNl146Q-V",
        "outputId": "ad894763-1596-4ee5-d084-9ed6107208ed"
      },
      "source": [
        "# Change rank, year, ImdbRating and ImdbRatingCount to numeric data\n",
        "cols = ['rank', 'year', 'imDbRating', 'imDbRatingCount']\n",
        "Top250MoviesData[cols] = Top250MoviesData[cols].apply(pd.to_numeric, axis = 1)\n",
        "Top250MoviesData.info()"
      ],
      "id": "HLFUNl146Q-V",
      "execution_count": 8,
      "outputs": [
        {
          "output_type": "stream",
          "name": "stdout",
          "text": [
            "<class 'pandas.core.frame.DataFrame'>\n",
            "RangeIndex: 250 entries, 0 to 249\n",
            "Data columns (total 9 columns):\n",
            " #   Column           Non-Null Count  Dtype  \n",
            "---  ------           --------------  -----  \n",
            " 0   id               250 non-null    object \n",
            " 1   rank             250 non-null    float64\n",
            " 2   title            250 non-null    object \n",
            " 3   fullTitle        250 non-null    object \n",
            " 4   year             250 non-null    float64\n",
            " 5   image            250 non-null    object \n",
            " 6   crew             250 non-null    object \n",
            " 7   imDbRating       250 non-null    float64\n",
            " 8   imDbRatingCount  250 non-null    float64\n",
            "dtypes: float64(4), object(5)\n",
            "memory usage: 17.7+ KB\n"
          ]
        }
      ]
    },
    {
      "cell_type": "code",
      "metadata": {
        "colab": {
          "base_uri": "https://localhost:8080/"
        },
        "id": "QcwpTfWpJuoa",
        "outputId": "5857b8d9-62c3-4f81-b873-9830490b8231"
      },
      "source": [
        "#Change rank, year and imDb Rating Count to intergers from float\n",
        "cols2 = ['rank', 'year', 'imDbRatingCount']\n",
        "Top250MoviesData[cols2] = Top250MoviesData[cols2].astype(int)\n",
        "Top250MoviesData.info()"
      ],
      "id": "QcwpTfWpJuoa",
      "execution_count": 9,
      "outputs": [
        {
          "output_type": "stream",
          "name": "stdout",
          "text": [
            "<class 'pandas.core.frame.DataFrame'>\n",
            "RangeIndex: 250 entries, 0 to 249\n",
            "Data columns (total 9 columns):\n",
            " #   Column           Non-Null Count  Dtype  \n",
            "---  ------           --------------  -----  \n",
            " 0   id               250 non-null    object \n",
            " 1   rank             250 non-null    int64  \n",
            " 2   title            250 non-null    object \n",
            " 3   fullTitle        250 non-null    object \n",
            " 4   year             250 non-null    int64  \n",
            " 5   image            250 non-null    object \n",
            " 6   crew             250 non-null    object \n",
            " 7   imDbRating       250 non-null    float64\n",
            " 8   imDbRatingCount  250 non-null    int64  \n",
            "dtypes: float64(1), int64(3), object(5)\n",
            "memory usage: 17.7+ KB\n"
          ]
        }
      ]
    },
    {
      "cell_type": "code",
      "metadata": {
        "colab": {
          "base_uri": "https://localhost:8080/",
          "height": 204
        },
        "id": "utYlYIZ_7GI7",
        "outputId": "bc1dc6d1-b839-4cf7-f002-abcc7fbc7739"
      },
      "source": [
        "#Drop the images and fullTitle column as it's not needed\n",
        "Top250MoviesRefinedData = Top250MoviesData.drop(columns=['image', 'fullTitle'], axis = 1)\n",
        "Top250MoviesRefinedData.head()"
      ],
      "id": "utYlYIZ_7GI7",
      "execution_count": 10,
      "outputs": [
        {
          "output_type": "execute_result",
          "data": {
            "text/html": [
              "<div>\n",
              "<style scoped>\n",
              "    .dataframe tbody tr th:only-of-type {\n",
              "        vertical-align: middle;\n",
              "    }\n",
              "\n",
              "    .dataframe tbody tr th {\n",
              "        vertical-align: top;\n",
              "    }\n",
              "\n",
              "    .dataframe thead th {\n",
              "        text-align: right;\n",
              "    }\n",
              "</style>\n",
              "<table border=\"1\" class=\"dataframe\">\n",
              "  <thead>\n",
              "    <tr style=\"text-align: right;\">\n",
              "      <th></th>\n",
              "      <th>id</th>\n",
              "      <th>rank</th>\n",
              "      <th>title</th>\n",
              "      <th>year</th>\n",
              "      <th>crew</th>\n",
              "      <th>imDbRating</th>\n",
              "      <th>imDbRatingCount</th>\n",
              "    </tr>\n",
              "  </thead>\n",
              "  <tbody>\n",
              "    <tr>\n",
              "      <th>0</th>\n",
              "      <td>tt0111161</td>\n",
              "      <td>1</td>\n",
              "      <td>The Shawshank Redemption</td>\n",
              "      <td>1994</td>\n",
              "      <td>Frank Darabont (dir.), Tim Robbins, Morgan Fre...</td>\n",
              "      <td>9.2</td>\n",
              "      <td>2478969</td>\n",
              "    </tr>\n",
              "    <tr>\n",
              "      <th>1</th>\n",
              "      <td>tt0068646</td>\n",
              "      <td>2</td>\n",
              "      <td>The Godfather</td>\n",
              "      <td>1972</td>\n",
              "      <td>Francis Ford Coppola (dir.), Marlon Brando, Al...</td>\n",
              "      <td>9.1</td>\n",
              "      <td>1712338</td>\n",
              "    </tr>\n",
              "    <tr>\n",
              "      <th>2</th>\n",
              "      <td>tt0071562</td>\n",
              "      <td>3</td>\n",
              "      <td>The Godfather: Part II</td>\n",
              "      <td>1974</td>\n",
              "      <td>Francis Ford Coppola (dir.), Al Pacino, Robert...</td>\n",
              "      <td>9.0</td>\n",
              "      <td>1189450</td>\n",
              "    </tr>\n",
              "    <tr>\n",
              "      <th>3</th>\n",
              "      <td>tt0468569</td>\n",
              "      <td>4</td>\n",
              "      <td>The Dark Knight</td>\n",
              "      <td>2008</td>\n",
              "      <td>Christopher Nolan (dir.), Christian Bale, Heat...</td>\n",
              "      <td>9.0</td>\n",
              "      <td>2433236</td>\n",
              "    </tr>\n",
              "    <tr>\n",
              "      <th>4</th>\n",
              "      <td>tt0050083</td>\n",
              "      <td>5</td>\n",
              "      <td>12 Angry Men</td>\n",
              "      <td>1957</td>\n",
              "      <td>Sidney Lumet (dir.), Henry Fonda, Lee J. Cobb</td>\n",
              "      <td>8.9</td>\n",
              "      <td>733755</td>\n",
              "    </tr>\n",
              "  </tbody>\n",
              "</table>\n",
              "</div>"
            ],
            "text/plain": [
              "          id  rank  ... imDbRating  imDbRatingCount\n",
              "0  tt0111161     1  ...        9.2          2478969\n",
              "1  tt0068646     2  ...        9.1          1712338\n",
              "2  tt0071562     3  ...        9.0          1189450\n",
              "3  tt0468569     4  ...        9.0          2433236\n",
              "4  tt0050083     5  ...        8.9           733755\n",
              "\n",
              "[5 rows x 7 columns]"
            ]
          },
          "metadata": {},
          "execution_count": 10
        }
      ]
    },
    {
      "cell_type": "code",
      "metadata": {
        "id": "R4hIzZBK70Gq"
      },
      "source": [
        "# Import libraries for data vizualisation\n",
        "import matplotlib.pyplot as plt\n",
        "import seaborn as sns\n"
      ],
      "id": "R4hIzZBK70Gq",
      "execution_count": 11,
      "outputs": []
    },
    {
      "cell_type": "code",
      "metadata": {
        "colab": {
          "base_uri": "https://localhost:8080/",
          "height": 297
        },
        "id": "hZ182M898U5x",
        "outputId": "f858e58d-6c12-47e6-e390-4391fb6996b0"
      },
      "source": [
        "# Check the summary of the numerical data\n",
        "Top250MoviesRefinedData.describe()"
      ],
      "id": "hZ182M898U5x",
      "execution_count": 12,
      "outputs": [
        {
          "output_type": "execute_result",
          "data": {
            "text/html": [
              "<div>\n",
              "<style scoped>\n",
              "    .dataframe tbody tr th:only-of-type {\n",
              "        vertical-align: middle;\n",
              "    }\n",
              "\n",
              "    .dataframe tbody tr th {\n",
              "        vertical-align: top;\n",
              "    }\n",
              "\n",
              "    .dataframe thead th {\n",
              "        text-align: right;\n",
              "    }\n",
              "</style>\n",
              "<table border=\"1\" class=\"dataframe\">\n",
              "  <thead>\n",
              "    <tr style=\"text-align: right;\">\n",
              "      <th></th>\n",
              "      <th>rank</th>\n",
              "      <th>year</th>\n",
              "      <th>imDbRating</th>\n",
              "      <th>imDbRatingCount</th>\n",
              "    </tr>\n",
              "  </thead>\n",
              "  <tbody>\n",
              "    <tr>\n",
              "      <th>count</th>\n",
              "      <td>250.000000</td>\n",
              "      <td>250.000000</td>\n",
              "      <td>250.0000</td>\n",
              "      <td>2.500000e+02</td>\n",
              "    </tr>\n",
              "    <tr>\n",
              "      <th>mean</th>\n",
              "      <td>125.500000</td>\n",
              "      <td>1986.960000</td>\n",
              "      <td>8.2584</td>\n",
              "      <td>5.695534e+05</td>\n",
              "    </tr>\n",
              "    <tr>\n",
              "      <th>std</th>\n",
              "      <td>72.312977</td>\n",
              "      <td>24.824492</td>\n",
              "      <td>0.2275</td>\n",
              "      <td>4.904834e+05</td>\n",
              "    </tr>\n",
              "    <tr>\n",
              "      <th>min</th>\n",
              "      <td>1.000000</td>\n",
              "      <td>1921.000000</td>\n",
              "      <td>8.0000</td>\n",
              "      <td>2.594400e+04</td>\n",
              "    </tr>\n",
              "    <tr>\n",
              "      <th>25%</th>\n",
              "      <td>63.250000</td>\n",
              "      <td>1968.000000</td>\n",
              "      <td>8.1000</td>\n",
              "      <td>1.668970e+05</td>\n",
              "    </tr>\n",
              "    <tr>\n",
              "      <th>50%</th>\n",
              "      <td>125.500000</td>\n",
              "      <td>1994.000000</td>\n",
              "      <td>8.2000</td>\n",
              "      <td>4.240605e+05</td>\n",
              "    </tr>\n",
              "    <tr>\n",
              "      <th>75%</th>\n",
              "      <td>187.750000</td>\n",
              "      <td>2007.000000</td>\n",
              "      <td>8.4000</td>\n",
              "      <td>8.773500e+05</td>\n",
              "    </tr>\n",
              "    <tr>\n",
              "      <th>max</th>\n",
              "      <td>250.000000</td>\n",
              "      <td>2021.000000</td>\n",
              "      <td>9.2000</td>\n",
              "      <td>2.478969e+06</td>\n",
              "    </tr>\n",
              "  </tbody>\n",
              "</table>\n",
              "</div>"
            ],
            "text/plain": [
              "             rank         year  imDbRating  imDbRatingCount\n",
              "count  250.000000   250.000000    250.0000     2.500000e+02\n",
              "mean   125.500000  1986.960000      8.2584     5.695534e+05\n",
              "std     72.312977    24.824492      0.2275     4.904834e+05\n",
              "min      1.000000  1921.000000      8.0000     2.594400e+04\n",
              "25%     63.250000  1968.000000      8.1000     1.668970e+05\n",
              "50%    125.500000  1994.000000      8.2000     4.240605e+05\n",
              "75%    187.750000  2007.000000      8.4000     8.773500e+05\n",
              "max    250.000000  2021.000000      9.2000     2.478969e+06"
            ]
          },
          "metadata": {},
          "execution_count": 12
        }
      ]
    },
    {
      "cell_type": "markdown",
      "metadata": {
        "id": "l2Vo6vFF9N6R"
      },
      "source": [
        "The top 250 movies ranged from 1921 to 2021. It would be interesting to know which movie rocked the chart in 1921. Additionally it would be interesting to see which year had the most movies.\n",
        "\n",
        "The ranking displays the top movie of all time, which was The Shawshank Redemption that had an imDB rating of 9.2 with a rating count of 2.5 million."
      ],
      "id": "l2Vo6vFF9N6R"
    },
    {
      "cell_type": "code",
      "metadata": {
        "colab": {
          "base_uri": "https://localhost:8080/",
          "height": 893
        },
        "id": "73JqsRo2D16D",
        "outputId": "df490c66-f46c-462a-c200-a10ed10b1bfa"
      },
      "source": [
        "# Create a bar plot to show the year and the number of movies produced for each year\n",
        "PerYear = Top250MoviesRefinedData.groupby('year').count()['title'].sort_values()\n",
        "\n",
        "PerYear.plot(kind='barh',title='Number of Top Movies Per Year', grid=True, fontsize=10, figsize=(20,15))\n",
        "plt.xlabel(\"Number of Movies\",fontsize=10) \n",
        "plt.ylabel(\"Year\",fontsize=10)\n",
        "plt.show()\n"
      ],
      "id": "73JqsRo2D16D",
      "execution_count": 13,
      "outputs": [
        {
          "output_type": "display_data",
          "data": {
            "image/png": "[encoded data removed]",
            "text/plain": [
              "<Figure size 1440x1080 with 1 Axes>"
            ]
          },
          "metadata": {
            "needs_background": "light"
          }
        }
      ]
    },
    {
      "cell_type": "markdown",
      "metadata": {
        "id": "IKXSo5w7Kkj-"
      },
      "source": [
        "The year 1995 had the most movies in the Top250 chart with 8 movies, this was followed by 1957 that had 7 movies. It would be interesting to note these movies."
      ],
      "id": "IKXSo5w7Kkj-"
    },
    {
      "cell_type": "code",
      "metadata": {
        "colab": {
          "base_uri": "https://localhost:8080/",
          "height": 297
        },
        "id": "ArbU_p4zK5qU",
        "outputId": "76f62649-30c2-410d-85a5-458eed8dd2ac"
      },
      "source": [
        "#Filter movies that were produced in 1995\n",
        "Top250MoviesRefinedData[Top250MoviesRefinedData.year==1995]"
      ],
      "id": "ArbU_p4zK5qU",
      "execution_count": 14,
      "outputs": [
        {
          "output_type": "execute_result",
          "data": {
            "text/html": [
              "<div>\n",
              "<style scoped>\n",
              "    .dataframe tbody tr th:only-of-type {\n",
              "        vertical-align: middle;\n",
              "    }\n",
              "\n",
              "    .dataframe tbody tr th {\n",
              "        vertical-align: top;\n",
              "    }\n",
              "\n",
              "    .dataframe thead th {\n",
              "        text-align: right;\n",
              "    }\n",
              "</style>\n",
              "<table border=\"1\" class=\"dataframe\">\n",
              "  <thead>\n",
              "    <tr style=\"text-align: right;\">\n",
              "      <th></th>\n",
              "      <th>id</th>\n",
              "      <th>rank</th>\n",
              "      <th>title</th>\n",
              "      <th>year</th>\n",
              "      <th>crew</th>\n",
              "      <th>imDbRating</th>\n",
              "      <th>imDbRatingCount</th>\n",
              "    </tr>\n",
              "  </thead>\n",
              "  <tbody>\n",
              "    <tr>\n",
              "      <th>19</th>\n",
              "      <td>tt0114369</td>\n",
              "      <td>20</td>\n",
              "      <td>Se7en</td>\n",
              "      <td>1995</td>\n",
              "      <td>David Fincher (dir.), Morgan Freeman, Brad Pitt</td>\n",
              "      <td>8.6</td>\n",
              "      <td>1525984</td>\n",
              "    </tr>\n",
              "    <tr>\n",
              "      <th>33</th>\n",
              "      <td>tt0114814</td>\n",
              "      <td>34</td>\n",
              "      <td>The Usual Suspects</td>\n",
              "      <td>1995</td>\n",
              "      <td>Bryan Singer (dir.), Kevin Spacey, Gabriel Byrne</td>\n",
              "      <td>8.5</td>\n",
              "      <td>1033075</td>\n",
              "    </tr>\n",
              "    <tr>\n",
              "      <th>80</th>\n",
              "      <td>tt0114709</td>\n",
              "      <td>81</td>\n",
              "      <td>Toy Story</td>\n",
              "      <td>1995</td>\n",
              "      <td>John Lasseter (dir.), Tom Hanks, Tim Allen</td>\n",
              "      <td>8.3</td>\n",
              "      <td>931253</td>\n",
              "    </tr>\n",
              "    <tr>\n",
              "      <th>83</th>\n",
              "      <td>tt0112573</td>\n",
              "      <td>84</td>\n",
              "      <td>Braveheart</td>\n",
              "      <td>1995</td>\n",
              "      <td>Mel Gibson (dir.), Mel Gibson, Sophie Marceau</td>\n",
              "      <td>8.3</td>\n",
              "      <td>992045</td>\n",
              "    </tr>\n",
              "    <tr>\n",
              "      <th>124</th>\n",
              "      <td>tt0113277</td>\n",
              "      <td>125</td>\n",
              "      <td>Heat</td>\n",
              "      <td>1995</td>\n",
              "      <td>Michael Mann (dir.), Al Pacino, Robert De Niro</td>\n",
              "      <td>8.2</td>\n",
              "      <td>611236</td>\n",
              "    </tr>\n",
              "    <tr>\n",
              "      <th>143</th>\n",
              "      <td>tt0112641</td>\n",
              "      <td>144</td>\n",
              "      <td>Casino</td>\n",
              "      <td>1995</td>\n",
              "      <td>Martin Scorsese (dir.), Robert De Niro, Sharon...</td>\n",
              "      <td>8.2</td>\n",
              "      <td>490518</td>\n",
              "    </tr>\n",
              "    <tr>\n",
              "      <th>191</th>\n",
              "      <td>tt0112471</td>\n",
              "      <td>192</td>\n",
              "      <td>Before Sunrise</td>\n",
              "      <td>1995</td>\n",
              "      <td>Richard Linklater (dir.), Ethan Hawke, Julie D...</td>\n",
              "      <td>8.1</td>\n",
              "      <td>288443</td>\n",
              "    </tr>\n",
              "    <tr>\n",
              "      <th>221</th>\n",
              "      <td>tt0113247</td>\n",
              "      <td>222</td>\n",
              "      <td>La Haine</td>\n",
              "      <td>1995</td>\n",
              "      <td>Mathieu Kassovitz (dir.), Vincent Cassel, Hube...</td>\n",
              "      <td>8.0</td>\n",
              "      <td>161284</td>\n",
              "    </tr>\n",
              "  </tbody>\n",
              "</table>\n",
              "</div>"
            ],
            "text/plain": [
              "            id  rank  ... imDbRating  imDbRatingCount\n",
              "19   tt0114369    20  ...        8.6          1525984\n",
              "33   tt0114814    34  ...        8.5          1033075\n",
              "80   tt0114709    81  ...        8.3           931253\n",
              "83   tt0112573    84  ...        8.3           992045\n",
              "124  tt0113277   125  ...        8.2           611236\n",
              "143  tt0112641   144  ...        8.2           490518\n",
              "191  tt0112471   192  ...        8.1           288443\n",
              "221  tt0113247   222  ...        8.0           161284\n",
              "\n",
              "[8 rows x 7 columns]"
            ]
          },
          "metadata": {},
          "execution_count": 14
        }
      ]
    },
    {
      "cell_type": "code",
      "metadata": {
        "colab": {
          "base_uri": "https://localhost:8080/",
          "height": 266
        },
        "id": "1CwJO8-ZMtil",
        "outputId": "6be565cd-7d8d-4c45-fc1f-ca8e4a9975eb"
      },
      "source": [
        "#Filter movies that were produced in 1957\n",
        "Top250MoviesRefinedData[Top250MoviesRefinedData.year==1957]"
      ],
      "id": "1CwJO8-ZMtil",
      "execution_count": 15,
      "outputs": [
        {
          "output_type": "execute_result",
          "data": {
            "text/html": [
              "<div>\n",
              "<style scoped>\n",
              "    .dataframe tbody tr th:only-of-type {\n",
              "        vertical-align: middle;\n",
              "    }\n",
              "\n",
              "    .dataframe tbody tr th {\n",
              "        vertical-align: top;\n",
              "    }\n",
              "\n",
              "    .dataframe thead th {\n",
              "        text-align: right;\n",
              "    }\n",
              "</style>\n",
              "<table border=\"1\" class=\"dataframe\">\n",
              "  <thead>\n",
              "    <tr style=\"text-align: right;\">\n",
              "      <th></th>\n",
              "      <th>id</th>\n",
              "      <th>rank</th>\n",
              "      <th>title</th>\n",
              "      <th>year</th>\n",
              "      <th>crew</th>\n",
              "      <th>imDbRating</th>\n",
              "      <th>imDbRatingCount</th>\n",
              "    </tr>\n",
              "  </thead>\n",
              "  <tbody>\n",
              "    <tr>\n",
              "      <th>4</th>\n",
              "      <td>tt0050083</td>\n",
              "      <td>5</td>\n",
              "      <td>12 Angry Men</td>\n",
              "      <td>1957</td>\n",
              "      <td>Sidney Lumet (dir.), Henry Fonda, Lee J. Cobb</td>\n",
              "      <td>8.9</td>\n",
              "      <td>733755</td>\n",
              "    </tr>\n",
              "    <tr>\n",
              "      <th>58</th>\n",
              "      <td>tt0050825</td>\n",
              "      <td>59</td>\n",
              "      <td>Paths of Glory</td>\n",
              "      <td>1957</td>\n",
              "      <td>Stanley Kubrick (dir.), Kirk Douglas, Ralph Me...</td>\n",
              "      <td>8.4</td>\n",
              "      <td>188010</td>\n",
              "    </tr>\n",
              "    <tr>\n",
              "      <th>62</th>\n",
              "      <td>tt0051201</td>\n",
              "      <td>63</td>\n",
              "      <td>Witness for the Prosecution</td>\n",
              "      <td>1957</td>\n",
              "      <td>Billy Wilder (dir.), Tyrone Power, Marlene Die...</td>\n",
              "      <td>8.4</td>\n",
              "      <td>117248</td>\n",
              "    </tr>\n",
              "    <tr>\n",
              "      <th>157</th>\n",
              "      <td>tt0050976</td>\n",
              "      <td>158</td>\n",
              "      <td>The Seventh Seal</td>\n",
              "      <td>1957</td>\n",
              "      <td>Ingmar Bergman (dir.), Max von Sydow, Gunnar B...</td>\n",
              "      <td>8.1</td>\n",
              "      <td>176351</td>\n",
              "    </tr>\n",
              "    <tr>\n",
              "      <th>164</th>\n",
              "      <td>tt0050986</td>\n",
              "      <td>165</td>\n",
              "      <td>Wild Strawberries</td>\n",
              "      <td>1957</td>\n",
              "      <td>Ingmar Bergman (dir.), Victor Sjöström, Bibi A...</td>\n",
              "      <td>8.1</td>\n",
              "      <td>102686</td>\n",
              "    </tr>\n",
              "    <tr>\n",
              "      <th>172</th>\n",
              "      <td>tt0050212</td>\n",
              "      <td>173</td>\n",
              "      <td>The Bridge on the River Kwai</td>\n",
              "      <td>1957</td>\n",
              "      <td>David Lean (dir.), William Holden, Alec Guinness</td>\n",
              "      <td>8.1</td>\n",
              "      <td>212002</td>\n",
              "    </tr>\n",
              "    <tr>\n",
              "      <th>245</th>\n",
              "      <td>tt0050783</td>\n",
              "      <td>246</td>\n",
              "      <td>Nights of Cabiria</td>\n",
              "      <td>1957</td>\n",
              "      <td>Federico Fellini (dir.), Giulietta Masina, Fra...</td>\n",
              "      <td>8.0</td>\n",
              "      <td>46395</td>\n",
              "    </tr>\n",
              "  </tbody>\n",
              "</table>\n",
              "</div>"
            ],
            "text/plain": [
              "            id  rank  ... imDbRating  imDbRatingCount\n",
              "4    tt0050083     5  ...        8.9           733755\n",
              "58   tt0050825    59  ...        8.4           188010\n",
              "62   tt0051201    63  ...        8.4           117248\n",
              "157  tt0050976   158  ...        8.1           176351\n",
              "164  tt0050986   165  ...        8.1           102686\n",
              "172  tt0050212   173  ...        8.1           212002\n",
              "245  tt0050783   246  ...        8.0            46395\n",
              "\n",
              "[7 rows x 7 columns]"
            ]
          },
          "metadata": {},
          "execution_count": 15
        }
      ]
    },
    {
      "cell_type": "code",
      "metadata": {
        "colab": {
          "base_uri": "https://localhost:8080/",
          "height": 1000
        },
        "id": "jNkz32L4M6TC",
        "outputId": "f12b5df4-de71-4d0e-962e-72b2e6f0bba6"
      },
      "source": [
        "#Filter movies that were produced after 2000\n",
        "Top250MoviesRefinedData[Top250MoviesRefinedData.year>=2010]"
      ],
      "id": "jNkz32L4M6TC",
      "execution_count": 16,
      "outputs": [
        {
          "output_type": "execute_result",
          "data": {
            "text/html": [
              "<div>\n",
              "<style scoped>\n",
              "    .dataframe tbody tr th:only-of-type {\n",
              "        vertical-align: middle;\n",
              "    }\n",
              "\n",
              "    .dataframe tbody tr th {\n",
              "        vertical-align: top;\n",
              "    }\n",
              "\n",
              "    .dataframe thead th {\n",
              "        text-align: right;\n",
              "    }\n",
              "</style>\n",
              "<table border=\"1\" class=\"dataframe\">\n",
              "  <thead>\n",
              "    <tr style=\"text-align: right;\">\n",
              "      <th></th>\n",
              "      <th>id</th>\n",
              "      <th>rank</th>\n",
              "      <th>title</th>\n",
              "      <th>year</th>\n",
              "      <th>crew</th>\n",
              "      <th>imDbRating</th>\n",
              "      <th>imDbRatingCount</th>\n",
              "    </tr>\n",
              "  </thead>\n",
              "  <tbody>\n",
              "    <tr>\n",
              "      <th>12</th>\n",
              "      <td>tt1375666</td>\n",
              "      <td>13</td>\n",
              "      <td>Inception</td>\n",
              "      <td>2010</td>\n",
              "      <td>Christopher Nolan (dir.), Leonardo DiCaprio, J...</td>\n",
              "      <td>8.7</td>\n",
              "      <td>2183482</td>\n",
              "    </tr>\n",
              "    <tr>\n",
              "      <th>26</th>\n",
              "      <td>tt0816692</td>\n",
              "      <td>27</td>\n",
              "      <td>Interstellar</td>\n",
              "      <td>2014</td>\n",
              "      <td>Christopher Nolan (dir.), Matthew McConaughey,...</td>\n",
              "      <td>8.5</td>\n",
              "      <td>1629630</td>\n",
              "    </tr>\n",
              "    <tr>\n",
              "      <th>29</th>\n",
              "      <td>tt6751668</td>\n",
              "      <td>30</td>\n",
              "      <td>Parasite</td>\n",
              "      <td>2019</td>\n",
              "      <td>Bong Joon Ho (dir.), Kang-ho Song, Sun-kyun Lee</td>\n",
              "      <td>8.5</td>\n",
              "      <td>674619</td>\n",
              "    </tr>\n",
              "    <tr>\n",
              "      <th>42</th>\n",
              "      <td>tt2582802</td>\n",
              "      <td>43</td>\n",
              "      <td>Whiplash</td>\n",
              "      <td>2014</td>\n",
              "      <td>Damien Chazelle (dir.), Miles Teller, J.K. Sim...</td>\n",
              "      <td>8.5</td>\n",
              "      <td>769281</td>\n",
              "    </tr>\n",
              "    <tr>\n",
              "      <th>45</th>\n",
              "      <td>tt1675434</td>\n",
              "      <td>46</td>\n",
              "      <td>The Intouchables</td>\n",
              "      <td>2011</td>\n",
              "      <td>Olivier Nakache (dir.), François Cluzet, Omar Sy</td>\n",
              "      <td>8.5</td>\n",
              "      <td>801219</td>\n",
              "    </tr>\n",
              "    <tr>\n",
              "      <th>57</th>\n",
              "      <td>tt1853728</td>\n",
              "      <td>58</td>\n",
              "      <td>Django Unchained</td>\n",
              "      <td>2012</td>\n",
              "      <td>Quentin Tarantino (dir.), Jamie Foxx, Christop...</td>\n",
              "      <td>8.4</td>\n",
              "      <td>1436232</td>\n",
              "    </tr>\n",
              "    <tr>\n",
              "      <th>61</th>\n",
              "      <td>tt4154756</td>\n",
              "      <td>62</td>\n",
              "      <td>Avengers: Infinity War</td>\n",
              "      <td>2018</td>\n",
              "      <td>Anthony Russo (dir.), Robert Downey Jr., Chris...</td>\n",
              "      <td>8.4</td>\n",
              "      <td>934098</td>\n",
              "    </tr>\n",
              "    <tr>\n",
              "      <th>64</th>\n",
              "      <td>tt4633694</td>\n",
              "      <td>65</td>\n",
              "      <td>Spider-Man: Into the Spider-Verse</td>\n",
              "      <td>2018</td>\n",
              "      <td>Bob Persichetti (dir.), Shameik Moore, Jake Jo...</td>\n",
              "      <td>8.4</td>\n",
              "      <td>433231</td>\n",
              "    </tr>\n",
              "    <tr>\n",
              "      <th>66</th>\n",
              "      <td>tt7286456</td>\n",
              "      <td>67</td>\n",
              "      <td>Joker</td>\n",
              "      <td>2019</td>\n",
              "      <td>Todd Phillips (dir.), Joaquin Phoenix, Robert ...</td>\n",
              "      <td>8.3</td>\n",
              "      <td>1084001</td>\n",
              "    </tr>\n",
              "    <tr>\n",
              "      <th>69</th>\n",
              "      <td>tt5311514</td>\n",
              "      <td>70</td>\n",
              "      <td>Your Name.</td>\n",
              "      <td>2016</td>\n",
              "      <td>Makoto Shinkai (dir.), Ryûnosuke Kamiki, Mone ...</td>\n",
              "      <td>8.3</td>\n",
              "      <td>228227</td>\n",
              "    </tr>\n",
              "    <tr>\n",
              "      <th>70</th>\n",
              "      <td>tt1345836</td>\n",
              "      <td>71</td>\n",
              "      <td>The Dark Knight Rises</td>\n",
              "      <td>2012</td>\n",
              "      <td>Christopher Nolan (dir.), Christian Bale, Tom ...</td>\n",
              "      <td>8.3</td>\n",
              "      <td>1586226</td>\n",
              "    </tr>\n",
              "    <tr>\n",
              "      <th>71</th>\n",
              "      <td>tt2380307</td>\n",
              "      <td>72</td>\n",
              "      <td>Coco</td>\n",
              "      <td>2017</td>\n",
              "      <td>Lee Unkrich (dir.), Anthony Gonzalez, Gael Gar...</td>\n",
              "      <td>8.3</td>\n",
              "      <td>436972</td>\n",
              "    </tr>\n",
              "    <tr>\n",
              "      <th>74</th>\n",
              "      <td>tt8267604</td>\n",
              "      <td>75</td>\n",
              "      <td>Capernaum</td>\n",
              "      <td>2018</td>\n",
              "      <td>Nadine Labaki (dir.), Zain Al Rafeea, Yordanos...</td>\n",
              "      <td>8.3</td>\n",
              "      <td>76873</td>\n",
              "    </tr>\n",
              "    <tr>\n",
              "      <th>75</th>\n",
              "      <td>tt4154796</td>\n",
              "      <td>76</td>\n",
              "      <td>Avengers: Endgame</td>\n",
              "      <td>2019</td>\n",
              "      <td>Anthony Russo (dir.), Robert Downey Jr., Chris...</td>\n",
              "      <td>8.3</td>\n",
              "      <td>952375</td>\n",
              "    </tr>\n",
              "    <tr>\n",
              "      <th>79</th>\n",
              "      <td>tt8503618</td>\n",
              "      <td>80</td>\n",
              "      <td>Hamilton</td>\n",
              "      <td>2020</td>\n",
              "      <td>Thomas Kail (dir.), Lin-Manuel Miranda, Philli...</td>\n",
              "      <td>8.3</td>\n",
              "      <td>75501</td>\n",
              "    </tr>\n",
              "    <tr>\n",
              "      <th>94</th>\n",
              "      <td>tt2106476</td>\n",
              "      <td>95</td>\n",
              "      <td>The Hunt</td>\n",
              "      <td>2012</td>\n",
              "      <td>Thomas Vinterberg (dir.), Mads Mikkelsen, Thom...</td>\n",
              "      <td>8.3</td>\n",
              "      <td>305701</td>\n",
              "    </tr>\n",
              "    <tr>\n",
              "      <th>105</th>\n",
              "      <td>tt5074352</td>\n",
              "      <td>106</td>\n",
              "      <td>Dangal</td>\n",
              "      <td>2016</td>\n",
              "      <td>Nitesh Tiwari (dir.), Aamir Khan, Sakshi Tanwar</td>\n",
              "      <td>8.2</td>\n",
              "      <td>172633</td>\n",
              "    </tr>\n",
              "    <tr>\n",
              "      <th>106</th>\n",
              "      <td>tt10272386</td>\n",
              "      <td>107</td>\n",
              "      <td>The Father</td>\n",
              "      <td>2020</td>\n",
              "      <td>Florian Zeller (dir.), Anthony Hopkins, Olivia...</td>\n",
              "      <td>8.2</td>\n",
              "      <td>103238</td>\n",
              "    </tr>\n",
              "    <tr>\n",
              "      <th>108</th>\n",
              "      <td>tt1255953</td>\n",
              "      <td>109</td>\n",
              "      <td>Incendies</td>\n",
              "      <td>2010</td>\n",
              "      <td>Denis Villeneuve (dir.), Lubna Azabal, Mélissa...</td>\n",
              "      <td>8.2</td>\n",
              "      <td>163866</td>\n",
              "    </tr>\n",
              "    <tr>\n",
              "      <th>114</th>\n",
              "      <td>tt1832382</td>\n",
              "      <td>115</td>\n",
              "      <td>A Separation</td>\n",
              "      <td>2011</td>\n",
              "      <td>Asghar Farhadi (dir.), Payman Maadi, Leila Hatami</td>\n",
              "      <td>8.2</td>\n",
              "      <td>233038</td>\n",
              "    </tr>\n",
              "    <tr>\n",
              "      <th>116</th>\n",
              "      <td>tt8579674</td>\n",
              "      <td>117</td>\n",
              "      <td>1917</td>\n",
              "      <td>2019</td>\n",
              "      <td>Sam Mendes (dir.), Dean-Charles Chapman, Georg...</td>\n",
              "      <td>8.2</td>\n",
              "      <td>499948</td>\n",
              "    </tr>\n",
              "    <tr>\n",
              "      <th>120</th>\n",
              "      <td>tt0435761</td>\n",
              "      <td>121</td>\n",
              "      <td>Toy Story 3</td>\n",
              "      <td>2010</td>\n",
              "      <td>Lee Unkrich (dir.), Tom Hanks, Tim Allen</td>\n",
              "      <td>8.2</td>\n",
              "      <td>789418</td>\n",
              "    </tr>\n",
              "    <tr>\n",
              "      <th>130</th>\n",
              "      <td>tt1160419</td>\n",
              "      <td>131</td>\n",
              "      <td>Dune</td>\n",
              "      <td>2021</td>\n",
              "      <td>Denis Villeneuve (dir.), Timothée Chalamet, Re...</td>\n",
              "      <td>8.2</td>\n",
              "      <td>225521</td>\n",
              "    </tr>\n",
              "    <tr>\n",
              "      <th>131</th>\n",
              "      <td>tt6966692</td>\n",
              "      <td>132</td>\n",
              "      <td>Green Book</td>\n",
              "      <td>2018</td>\n",
              "      <td>Peter Farrelly (dir.), Viggo Mortensen, Mahers...</td>\n",
              "      <td>8.2</td>\n",
              "      <td>431357</td>\n",
              "    </tr>\n",
              "    <tr>\n",
              "      <th>140</th>\n",
              "      <td>tt0993846</td>\n",
              "      <td>141</td>\n",
              "      <td>The Wolf of Wall Street</td>\n",
              "      <td>2013</td>\n",
              "      <td>Martin Scorsese (dir.), Leonardo DiCaprio, Jon...</td>\n",
              "      <td>8.2</td>\n",
              "      <td>1275410</td>\n",
              "    </tr>\n",
              "    <tr>\n",
              "      <th>153</th>\n",
              "      <td>tt1130884</td>\n",
              "      <td>154</td>\n",
              "      <td>Shutter Island</td>\n",
              "      <td>2010</td>\n",
              "      <td>Martin Scorsese (dir.), Leonardo DiCaprio, Emi...</td>\n",
              "      <td>8.1</td>\n",
              "      <td>1204132</td>\n",
              "    </tr>\n",
              "    <tr>\n",
              "      <th>158</th>\n",
              "      <td>tt5027774</td>\n",
              "      <td>159</td>\n",
              "      <td>Three Billboards Outside Ebbing, Missouri</td>\n",
              "      <td>2017</td>\n",
              "      <td>Martin McDonagh (dir.), Frances McDormand, Woo...</td>\n",
              "      <td>8.1</td>\n",
              "      <td>469326</td>\n",
              "    </tr>\n",
              "    <tr>\n",
              "      <th>162</th>\n",
              "      <td>tt4729430</td>\n",
              "      <td>163</td>\n",
              "      <td>Klaus</td>\n",
              "      <td>2019</td>\n",
              "      <td>Sergio Pablos (dir.), Jason Schwartzman, J.K. ...</td>\n",
              "      <td>8.1</td>\n",
              "      <td>121178</td>\n",
              "    </tr>\n",
              "    <tr>\n",
              "      <th>169</th>\n",
              "      <td>tt2096673</td>\n",
              "      <td>170</td>\n",
              "      <td>Inside Out</td>\n",
              "      <td>2015</td>\n",
              "      <td>Pete Docter (dir.), Amy Poehler, Bill Hader</td>\n",
              "      <td>8.1</td>\n",
              "      <td>657677</td>\n",
              "    </tr>\n",
              "    <tr>\n",
              "      <th>174</th>\n",
              "      <td>tt1291584</td>\n",
              "      <td>175</td>\n",
              "      <td>Warrior</td>\n",
              "      <td>2011</td>\n",
              "      <td>Gavin O'Connor (dir.), Tom Hardy, Nick Nolte</td>\n",
              "      <td>8.1</td>\n",
              "      <td>451569</td>\n",
              "    </tr>\n",
              "    <tr>\n",
              "      <th>183</th>\n",
              "      <td>tt3011894</td>\n",
              "      <td>184</td>\n",
              "      <td>Wild Tales</td>\n",
              "      <td>2014</td>\n",
              "      <td>Damián Szifron (dir.), Darío Grandinetti, Marí...</td>\n",
              "      <td>8.1</td>\n",
              "      <td>187829</td>\n",
              "    </tr>\n",
              "    <tr>\n",
              "      <th>189</th>\n",
              "      <td>tt2278388</td>\n",
              "      <td>190</td>\n",
              "      <td>The Grand Budapest Hotel</td>\n",
              "      <td>2014</td>\n",
              "      <td>Wes Anderson (dir.), Ralph Fiennes, F. Murray ...</td>\n",
              "      <td>8.1</td>\n",
              "      <td>750047</td>\n",
              "    </tr>\n",
              "    <tr>\n",
              "      <th>190</th>\n",
              "      <td>tt1392214</td>\n",
              "      <td>191</td>\n",
              "      <td>Prisoners</td>\n",
              "      <td>2013</td>\n",
              "      <td>Denis Villeneuve (dir.), Hugh Jackman, Jake Gy...</td>\n",
              "      <td>8.1</td>\n",
              "      <td>643710</td>\n",
              "    </tr>\n",
              "    <tr>\n",
              "      <th>195</th>\n",
              "      <td>tt3170832</td>\n",
              "      <td>196</td>\n",
              "      <td>Room</td>\n",
              "      <td>2015</td>\n",
              "      <td>Lenny Abrahamson (dir.), Brie Larson, Jacob Tr...</td>\n",
              "      <td>8.1</td>\n",
              "      <td>394906</td>\n",
              "    </tr>\n",
              "    <tr>\n",
              "      <th>198</th>\n",
              "      <td>tt2267998</td>\n",
              "      <td>199</td>\n",
              "      <td>Gone Girl</td>\n",
              "      <td>2014</td>\n",
              "      <td>David Fincher (dir.), Ben Affleck, Rosamund Pike</td>\n",
              "      <td>8.1</td>\n",
              "      <td>914643</td>\n",
              "    </tr>\n",
              "    <tr>\n",
              "      <th>199</th>\n",
              "      <td>tt2119532</td>\n",
              "      <td>200</td>\n",
              "      <td>Hacksaw Ridge</td>\n",
              "      <td>2016</td>\n",
              "      <td>Mel Gibson (dir.), Andrew Garfield, Sam Worthi...</td>\n",
              "      <td>8.1</td>\n",
              "      <td>471711</td>\n",
              "    </tr>\n",
              "    <tr>\n",
              "      <th>201</th>\n",
              "      <td>tt8108198</td>\n",
              "      <td>202</td>\n",
              "      <td>Andhadhun</td>\n",
              "      <td>2018</td>\n",
              "      <td>Sriram Raghavan (dir.), Ayushmann Khurrana, Tabu</td>\n",
              "      <td>8.1</td>\n",
              "      <td>83749</td>\n",
              "    </tr>\n",
              "    <tr>\n",
              "      <th>202</th>\n",
              "      <td>tt1950186</td>\n",
              "      <td>203</td>\n",
              "      <td>Ford v Ferrari</td>\n",
              "      <td>2019</td>\n",
              "      <td>James Mangold (dir.), Matt Damon, Christian Bale</td>\n",
              "      <td>8.1</td>\n",
              "      <td>339675</td>\n",
              "    </tr>\n",
              "    <tr>\n",
              "      <th>204</th>\n",
              "      <td>tt2024544</td>\n",
              "      <td>205</td>\n",
              "      <td>12 Years a Slave</td>\n",
              "      <td>2013</td>\n",
              "      <td>Steve McQueen (dir.), Chiwetel Ejiofor, Michae...</td>\n",
              "      <td>8.1</td>\n",
              "      <td>667501</td>\n",
              "    </tr>\n",
              "    <tr>\n",
              "      <th>206</th>\n",
              "      <td>tt0892769</td>\n",
              "      <td>207</td>\n",
              "      <td>How to Train Your Dragon</td>\n",
              "      <td>2010</td>\n",
              "      <td>Dean DeBlois (dir.), Jay Baruchel, Gerard Butler</td>\n",
              "      <td>8.1</td>\n",
              "      <td>696748</td>\n",
              "    </tr>\n",
              "    <tr>\n",
              "      <th>209</th>\n",
              "      <td>tt1392190</td>\n",
              "      <td>210</td>\n",
              "      <td>Mad Max: Fury Road</td>\n",
              "      <td>2015</td>\n",
              "      <td>George Miller (dir.), Tom Hardy, Charlize Theron</td>\n",
              "      <td>8.1</td>\n",
              "      <td>933187</td>\n",
              "    </tr>\n",
              "    <tr>\n",
              "      <th>212</th>\n",
              "      <td>tt1201607</td>\n",
              "      <td>213</td>\n",
              "      <td>Harry Potter and the Deathly Hallows: Part 2</td>\n",
              "      <td>2011</td>\n",
              "      <td>David Yates (dir.), Daniel Radcliffe, Emma Watson</td>\n",
              "      <td>8.1</td>\n",
              "      <td>807154</td>\n",
              "    </tr>\n",
              "    <tr>\n",
              "      <th>215</th>\n",
              "      <td>tt4016934</td>\n",
              "      <td>216</td>\n",
              "      <td>The Handmaiden</td>\n",
              "      <td>2016</td>\n",
              "      <td>Park Chan-Wook (dir.), Kim Min-hee, Ha Jung-woo</td>\n",
              "      <td>8.1</td>\n",
              "      <td>129545</td>\n",
              "    </tr>\n",
              "    <tr>\n",
              "      <th>217</th>\n",
              "      <td>tt3315342</td>\n",
              "      <td>218</td>\n",
              "      <td>Logan</td>\n",
              "      <td>2017</td>\n",
              "      <td>James Mangold (dir.), Hugh Jackman, Patrick St...</td>\n",
              "      <td>8.1</td>\n",
              "      <td>693214</td>\n",
              "    </tr>\n",
              "    <tr>\n",
              "      <th>222</th>\n",
              "      <td>tt1954470</td>\n",
              "      <td>223</td>\n",
              "      <td>Gangs of Wasseypur</td>\n",
              "      <td>2012</td>\n",
              "      <td>Anurag Kashyap (dir.), Manoj Bajpayee, Richa C...</td>\n",
              "      <td>8.0</td>\n",
              "      <td>90245</td>\n",
              "    </tr>\n",
              "    <tr>\n",
              "      <th>224</th>\n",
              "      <td>tt1895587</td>\n",
              "      <td>225</td>\n",
              "      <td>Spotlight</td>\n",
              "      <td>2015</td>\n",
              "      <td>Tom McCarthy (dir.), Mark Ruffalo, Michael Keaton</td>\n",
              "      <td>8.0</td>\n",
              "      <td>444685</td>\n",
              "    </tr>\n",
              "    <tr>\n",
              "      <th>225</th>\n",
              "      <td>tt5323662</td>\n",
              "      <td>226</td>\n",
              "      <td>A Silent Voice: The Movie</td>\n",
              "      <td>2016</td>\n",
              "      <td>Naoko Yamada (dir.), Miyu Irino, Saori Hayami</td>\n",
              "      <td>8.0</td>\n",
              "      <td>64857</td>\n",
              "    </tr>\n",
              "    <tr>\n",
              "      <th>232</th>\n",
              "      <td>tt1979320</td>\n",
              "      <td>233</td>\n",
              "      <td>Rush</td>\n",
              "      <td>2013</td>\n",
              "      <td>Ron Howard (dir.), Daniel Brühl, Chris Hemsworth</td>\n",
              "      <td>8.0</td>\n",
              "      <td>454728</td>\n",
              "    </tr>\n",
              "    <tr>\n",
              "      <th>243</th>\n",
              "      <td>tt11032374</td>\n",
              "      <td>244</td>\n",
              "      <td>Demon Slayer: Mugen Train</td>\n",
              "      <td>2020</td>\n",
              "      <td>Haruo Sotozaki (dir.), Natsuki Hanae, Akari Kitô</td>\n",
              "      <td>8.0</td>\n",
              "      <td>38833</td>\n",
              "    </tr>\n",
              "    <tr>\n",
              "      <th>248</th>\n",
              "      <td>tt2991224</td>\n",
              "      <td>249</td>\n",
              "      <td>Tangerines</td>\n",
              "      <td>2013</td>\n",
              "      <td>Zaza Urushadze (dir.), Lembit Ulfsak, Elmo Nüg...</td>\n",
              "      <td>8.0</td>\n",
              "      <td>44379</td>\n",
              "    </tr>\n",
              "    <tr>\n",
              "      <th>249</th>\n",
              "      <td>tt10431500</td>\n",
              "      <td>250</td>\n",
              "      <td>Miracle in Cell No. 7</td>\n",
              "      <td>2019</td>\n",
              "      <td>Mehmet Ada Öztekin (dir.), Aras Bulut Iynemli,...</td>\n",
              "      <td>8.0</td>\n",
              "      <td>43113</td>\n",
              "    </tr>\n",
              "  </tbody>\n",
              "</table>\n",
              "</div>"
            ],
            "text/plain": [
              "             id  rank  ... imDbRating  imDbRatingCount\n",
              "12    tt1375666    13  ...        8.7          2183482\n",
              "26    tt0816692    27  ...        8.5          1629630\n",
              "29    tt6751668    30  ...        8.5           674619\n",
              "42    tt2582802    43  ...        8.5           769281\n",
              "45    tt1675434    46  ...        8.5           801219\n",
              "57    tt1853728    58  ...        8.4          1436232\n",
              "61    tt4154756    62  ...        8.4           934098\n",
              "64    tt4633694    65  ...        8.4           433231\n",
              "66    tt7286456    67  ...        8.3          1084001\n",
              "69    tt5311514    70  ...        8.3           228227\n",
              "70    tt1345836    71  ...        8.3          1586226\n",
              "71    tt2380307    72  ...        8.3           436972\n",
              "74    tt8267604    75  ...        8.3            76873\n",
              "75    tt4154796    76  ...        8.3           952375\n",
              "79    tt8503618    80  ...        8.3            75501\n",
              "94    tt2106476    95  ...        8.3           305701\n",
              "105   tt5074352   106  ...        8.2           172633\n",
              "106  tt10272386   107  ...        8.2           103238\n",
              "108   tt1255953   109  ...        8.2           163866\n",
              "114   tt1832382   115  ...        8.2           233038\n",
              "116   tt8579674   117  ...        8.2           499948\n",
              "120   tt0435761   121  ...        8.2           789418\n",
              "130   tt1160419   131  ...        8.2           225521\n",
              "131   tt6966692   132  ...        8.2           431357\n",
              "140   tt0993846   141  ...        8.2          1275410\n",
              "153   tt1130884   154  ...        8.1          1204132\n",
              "158   tt5027774   159  ...        8.1           469326\n",
              "162   tt4729430   163  ...        8.1           121178\n",
              "169   tt2096673   170  ...        8.1           657677\n",
              "174   tt1291584   175  ...        8.1           451569\n",
              "183   tt3011894   184  ...        8.1           187829\n",
              "189   tt2278388   190  ...        8.1           750047\n",
              "190   tt1392214   191  ...        8.1           643710\n",
              "195   tt3170832   196  ...        8.1           394906\n",
              "198   tt2267998   199  ...        8.1           914643\n",
              "199   tt2119532   200  ...        8.1           471711\n",
              "201   tt8108198   202  ...        8.1            83749\n",
              "202   tt1950186   203  ...        8.1           339675\n",
              "204   tt2024544   205  ...        8.1           667501\n",
              "206   tt0892769   207  ...        8.1           696748\n",
              "209   tt1392190   210  ...        8.1           933187\n",
              "212   tt1201607   213  ...        8.1           807154\n",
              "215   tt4016934   216  ...        8.1           129545\n",
              "217   tt3315342   218  ...        8.1           693214\n",
              "222   tt1954470   223  ...        8.0            90245\n",
              "224   tt1895587   225  ...        8.0           444685\n",
              "225   tt5323662   226  ...        8.0            64857\n",
              "232   tt1979320   233  ...        8.0           454728\n",
              "243  tt11032374   244  ...        8.0            38833\n",
              "248   tt2991224   249  ...        8.0            44379\n",
              "249  tt10431500   250  ...        8.0            43113\n",
              "\n",
              "[51 rows x 7 columns]"
            ]
          },
          "metadata": {},
          "execution_count": 16
        }
      ]
    },
    {
      "cell_type": "markdown",
      "metadata": {
        "id": "6B6cLSeS9KSW"
      },
      "source": [
        "separate the directors from the actors - use regular expressions with (dir) as the separator\n",
        "\n",
        "Can I view data in decades? will it make sense though?\n"
      ],
      "id": "6B6cLSeS9KSW"
    },
    {
      "cell_type": "code",
      "metadata": {
        "colab": {
          "base_uri": "https://localhost:8080/",
          "height": 255
        },
        "id": "ayP6x0LZh_9v",
        "outputId": "6ecbb5d7-311e-421d-96f5-354f5e8a9c8a"
      },
      "source": [
        "#Split the crew column to separate the directors from the actors\n",
        "Top250MoviesRefinedData2 = Top250MoviesRefinedData['crew'].str.split(',', n=1, expand=True)\n",
        "Top250MoviesRefinedData2.columns = ['crew{}'.format(x+1) for x in Top250MoviesRefinedData2.columns]\n",
        "\n",
        "#Join the dataframes\n",
        "Top250MoviesRefinedData3 = Top250MoviesRefinedData.join(Top250MoviesRefinedData2)\n",
        "\n",
        "#Rename the new columns\n",
        "Top250MoviesRefinedData3.rename(columns={'crew1':'director', 'crew2':'actors'}, inplace=True)\n",
        "\n",
        "#Remove the word 'dir' from the names of the directors\n",
        "Top250MoviesRefinedData3['director'] = Top250MoviesRefinedData3['director'].str[:-6]\n",
        "\n",
        "#view the dataframe\n",
        "Top250MoviesRefinedData3.head()"
      ],
      "id": "ayP6x0LZh_9v",
      "execution_count": 17,
      "outputs": [
        {
          "output_type": "execute_result",
          "data": {
            "text/html": [
              "<div>\n",
              "<style scoped>\n",
              "    .dataframe tbody tr th:only-of-type {\n",
              "        vertical-align: middle;\n",
              "    }\n",
              "\n",
              "    .dataframe tbody tr th {\n",
              "        vertical-align: top;\n",
              "    }\n",
              "\n",
              "    .dataframe thead th {\n",
              "        text-align: right;\n",
              "    }\n",
              "</style>\n",
              "<table border=\"1\" class=\"dataframe\">\n",
              "  <thead>\n",
              "    <tr style=\"text-align: right;\">\n",
              "      <th></th>\n",
              "      <th>id</th>\n",
              "      <th>rank</th>\n",
              "      <th>title</th>\n",
              "      <th>year</th>\n",
              "      <th>crew</th>\n",
              "      <th>imDbRating</th>\n",
              "      <th>imDbRatingCount</th>\n",
              "      <th>director</th>\n",
              "      <th>actors</th>\n",
              "    </tr>\n",
              "  </thead>\n",
              "  <tbody>\n",
              "    <tr>\n",
              "      <th>0</th>\n",
              "      <td>tt0111161</td>\n",
              "      <td>1</td>\n",
              "      <td>The Shawshank Redemption</td>\n",
              "      <td>1994</td>\n",
              "      <td>Frank Darabont (dir.), Tim Robbins, Morgan Fre...</td>\n",
              "      <td>9.2</td>\n",
              "      <td>2478969</td>\n",
              "      <td>Frank Darabont</td>\n",
              "      <td>Tim Robbins, Morgan Freeman</td>\n",
              "    </tr>\n",
              "    <tr>\n",
              "      <th>1</th>\n",
              "      <td>tt0068646</td>\n",
              "      <td>2</td>\n",
              "      <td>The Godfather</td>\n",
              "      <td>1972</td>\n",
              "      <td>Francis Ford Coppola (dir.), Marlon Brando, Al...</td>\n",
              "      <td>9.1</td>\n",
              "      <td>1712338</td>\n",
              "      <td>Francis Ford Coppola</td>\n",
              "      <td>Marlon Brando, Al Pacino</td>\n",
              "    </tr>\n",
              "    <tr>\n",
              "      <th>2</th>\n",
              "      <td>tt0071562</td>\n",
              "      <td>3</td>\n",
              "      <td>The Godfather: Part II</td>\n",
              "      <td>1974</td>\n",
              "      <td>Francis Ford Coppola (dir.), Al Pacino, Robert...</td>\n",
              "      <td>9.0</td>\n",
              "      <td>1189450</td>\n",
              "      <td>Francis Ford Coppola</td>\n",
              "      <td>Al Pacino, Robert De Niro</td>\n",
              "    </tr>\n",
              "    <tr>\n",
              "      <th>3</th>\n",
              "      <td>tt0468569</td>\n",
              "      <td>4</td>\n",
              "      <td>The Dark Knight</td>\n",
              "      <td>2008</td>\n",
              "      <td>Christopher Nolan (dir.), Christian Bale, Heat...</td>\n",
              "      <td>9.0</td>\n",
              "      <td>2433236</td>\n",
              "      <td>Christopher Nolan</td>\n",
              "      <td>Christian Bale, Heath Ledger</td>\n",
              "    </tr>\n",
              "    <tr>\n",
              "      <th>4</th>\n",
              "      <td>tt0050083</td>\n",
              "      <td>5</td>\n",
              "      <td>12 Angry Men</td>\n",
              "      <td>1957</td>\n",
              "      <td>Sidney Lumet (dir.), Henry Fonda, Lee J. Cobb</td>\n",
              "      <td>8.9</td>\n",
              "      <td>733755</td>\n",
              "      <td>Sidney Lumet</td>\n",
              "      <td>Henry Fonda, Lee J. Cobb</td>\n",
              "    </tr>\n",
              "  </tbody>\n",
              "</table>\n",
              "</div>"
            ],
            "text/plain": [
              "          id  rank  ...               director                         actors\n",
              "0  tt0111161     1  ...        Frank Darabont     Tim Robbins, Morgan Freeman\n",
              "1  tt0068646     2  ...  Francis Ford Coppola        Marlon Brando, Al Pacino\n",
              "2  tt0071562     3  ...  Francis Ford Coppola       Al Pacino, Robert De Niro\n",
              "3  tt0468569     4  ...     Christopher Nolan    Christian Bale, Heath Ledger\n",
              "4  tt0050083     5  ...          Sidney Lumet        Henry Fonda, Lee J. Cobb\n",
              "\n",
              "[5 rows x 9 columns]"
            ]
          },
          "metadata": {},
          "execution_count": 17
        }
      ]
    },
    {
      "cell_type": "code",
      "metadata": {
        "colab": {
          "base_uri": "https://localhost:8080/"
        },
        "id": "RG6acoYMDkw5",
        "outputId": "35f3c076-5da0-440f-e16f-6cd4006dcf63"
      },
      "source": [
        "#Get the number of unique directors\n",
        "len(Top250MoviesRefinedData3['director'].unique())"
      ],
      "id": "RG6acoYMDkw5",
      "execution_count": 18,
      "outputs": [
        {
          "output_type": "execute_result",
          "data": {
            "text/plain": [
              "155"
            ]
          },
          "metadata": {},
          "execution_count": 18
        }
      ]
    },
    {
      "cell_type": "code",
      "metadata": {
        "colab": {
          "base_uri": "https://localhost:8080/"
        },
        "id": "GmDqqI9iEedk",
        "outputId": "09cec8e0-1079-4550-ab83-f2bff2810dd9"
      },
      "source": [
        "#Get the top 10 directors\n",
        "top_directors = Top250MoviesRefinedData3['director'].value_counts()\n",
        "top_directors.head(10)"
      ],
      "id": "GmDqqI9iEedk",
      "execution_count": 19,
      "outputs": [
        {
          "output_type": "execute_result",
          "data": {
            "text/plain": [
              "Christopher Nolan     7\n",
              "Martin Scorsese       7\n",
              "Stanley Kubrick       7\n",
              "Steven Spielberg      6\n",
              "Alfred Hitchcock      6\n",
              "Akira Kurosawa        6\n",
              "Billy Wilder          5\n",
              "Hayao Miyazaki        5\n",
              "Ingmar Bergman        5\n",
              "Quentin Tarantino     5\n",
              "Name: director, dtype: int64"
            ]
          },
          "metadata": {},
          "execution_count": 19
        }
      ]
    },
    {
      "cell_type": "code",
      "metadata": {
        "colab": {
          "base_uri": "https://localhost:8080/"
        },
        "id": "1EC3zbeltjSv",
        "outputId": "44f391a3-dd18-47e3-bdaa-0c78b49ce2c7"
      },
      "source": [
        "#Get the number of unique actors\n",
        "len(Top250MoviesRefinedData3['actors'].unique())\n",
        "\n"
      ],
      "id": "1EC3zbeltjSv",
      "execution_count": 20,
      "outputs": [
        {
          "output_type": "execute_result",
          "data": {
            "text/plain": [
              "241"
            ]
          },
          "metadata": {},
          "execution_count": 20
        }
      ]
    },
    {
      "cell_type": "code",
      "metadata": {
        "colab": {
          "base_uri": "https://localhost:8080/"
        },
        "id": "2JbToNF6vRbC",
        "outputId": "221e1968-9058-4e88-8579-76bfd60aed3e"
      },
      "source": [
        "#Get the top 10 actor combinations for a movie\n",
        "top_actors = Top250MoviesRefinedData3['actors'].value_counts()\n",
        "top_actors.head(10)"
      ],
      "id": "2JbToNF6vRbC",
      "execution_count": 21,
      "outputs": [
        {
          "output_type": "execute_result",
          "data": {
            "text/plain": [
              " Mark Hamill, Harrison Ford             3\n",
              " Graham Chapman, John Cleese            2\n",
              " Ethan Hawke, Julie Delpy               2\n",
              " Orson Welles, Joseph Cotten            2\n",
              " Tom Hanks, Tim Allen                   2\n",
              " Al Pacino, Robert De Niro              2\n",
              " Elijah Wood, Ian McKellen              2\n",
              " Charles Chaplin, Paulette Goddard      2\n",
              " Tatsuya Nakadai, Akira Terao           1\n",
              " Irène Jacob, Jean-Louis Trintignant    1\n",
              "Name: actors, dtype: int64"
            ]
          },
          "metadata": {},
          "execution_count": 21
        }
      ]
    },
    {
      "cell_type": "code",
      "metadata": {
        "colab": {
          "base_uri": "https://localhost:8080/",
          "height": 529
        },
        "id": "ndiocf7jv2c0",
        "outputId": "f07d5511-b218-4263-a461-9f6163fe218b"
      },
      "source": [
        "#Get the top 10 movies\n",
        "Top250MoviesRefinedData3.head(10)"
      ],
      "id": "ndiocf7jv2c0",
      "execution_count": 22,
      "outputs": [
        {
          "output_type": "execute_result",
          "data": {
            "text/html": [
              "<div>\n",
              "<style scoped>\n",
              "    .dataframe tbody tr th:only-of-type {\n",
              "        vertical-align: middle;\n",
              "    }\n",
              "\n",
              "    .dataframe tbody tr th {\n",
              "        vertical-align: top;\n",
              "    }\n",
              "\n",
              "    .dataframe thead th {\n",
              "        text-align: right;\n",
              "    }\n",
              "</style>\n",
              "<table border=\"1\" class=\"dataframe\">\n",
              "  <thead>\n",
              "    <tr style=\"text-align: right;\">\n",
              "      <th></th>\n",
              "      <th>id</th>\n",
              "      <th>rank</th>\n",
              "      <th>title</th>\n",
              "      <th>year</th>\n",
              "      <th>crew</th>\n",
              "      <th>imDbRating</th>\n",
              "      <th>imDbRatingCount</th>\n",
              "      <th>director</th>\n",
              "      <th>actors</th>\n",
              "    </tr>\n",
              "  </thead>\n",
              "  <tbody>\n",
              "    <tr>\n",
              "      <th>0</th>\n",
              "      <td>tt0111161</td>\n",
              "      <td>1</td>\n",
              "      <td>The Shawshank Redemption</td>\n",
              "      <td>1994</td>\n",
              "      <td>Frank Darabont (dir.), Tim Robbins, Morgan Fre...</td>\n",
              "      <td>9.2</td>\n",
              "      <td>2478969</td>\n",
              "      <td>Frank Darabont</td>\n",
              "      <td>Tim Robbins, Morgan Freeman</td>\n",
              "    </tr>\n",
              "    <tr>\n",
              "      <th>1</th>\n",
              "      <td>tt0068646</td>\n",
              "      <td>2</td>\n",
              "      <td>The Godfather</td>\n",
              "      <td>1972</td>\n",
              "      <td>Francis Ford Coppola (dir.), Marlon Brando, Al...</td>\n",
              "      <td>9.1</td>\n",
              "      <td>1712338</td>\n",
              "      <td>Francis Ford Coppola</td>\n",
              "      <td>Marlon Brando, Al Pacino</td>\n",
              "    </tr>\n",
              "    <tr>\n",
              "      <th>2</th>\n",
              "      <td>tt0071562</td>\n",
              "      <td>3</td>\n",
              "      <td>The Godfather: Part II</td>\n",
              "      <td>1974</td>\n",
              "      <td>Francis Ford Coppola (dir.), Al Pacino, Robert...</td>\n",
              "      <td>9.0</td>\n",
              "      <td>1189450</td>\n",
              "      <td>Francis Ford Coppola</td>\n",
              "      <td>Al Pacino, Robert De Niro</td>\n",
              "    </tr>\n",
              "    <tr>\n",
              "      <th>3</th>\n",
              "      <td>tt0468569</td>\n",
              "      <td>4</td>\n",
              "      <td>The Dark Knight</td>\n",
              "      <td>2008</td>\n",
              "      <td>Christopher Nolan (dir.), Christian Bale, Heat...</td>\n",
              "      <td>9.0</td>\n",
              "      <td>2433236</td>\n",
              "      <td>Christopher Nolan</td>\n",
              "      <td>Christian Bale, Heath Ledger</td>\n",
              "    </tr>\n",
              "    <tr>\n",
              "      <th>4</th>\n",
              "      <td>tt0050083</td>\n",
              "      <td>5</td>\n",
              "      <td>12 Angry Men</td>\n",
              "      <td>1957</td>\n",
              "      <td>Sidney Lumet (dir.), Henry Fonda, Lee J. Cobb</td>\n",
              "      <td>8.9</td>\n",
              "      <td>733755</td>\n",
              "      <td>Sidney Lumet</td>\n",
              "      <td>Henry Fonda, Lee J. Cobb</td>\n",
              "    </tr>\n",
              "    <tr>\n",
              "      <th>5</th>\n",
              "      <td>tt0108052</td>\n",
              "      <td>6</td>\n",
              "      <td>Schindler's List</td>\n",
              "      <td>1993</td>\n",
              "      <td>Steven Spielberg (dir.), Liam Neeson, Ralph Fi...</td>\n",
              "      <td>8.9</td>\n",
              "      <td>1272778</td>\n",
              "      <td>Steven Spielberg</td>\n",
              "      <td>Liam Neeson, Ralph Fiennes</td>\n",
              "    </tr>\n",
              "    <tr>\n",
              "      <th>6</th>\n",
              "      <td>tt0167260</td>\n",
              "      <td>7</td>\n",
              "      <td>The Lord of the Rings: The Return of the King</td>\n",
              "      <td>2003</td>\n",
              "      <td>Peter Jackson (dir.), Elijah Wood, Viggo Morte...</td>\n",
              "      <td>8.9</td>\n",
              "      <td>1717896</td>\n",
              "      <td>Peter Jackson</td>\n",
              "      <td>Elijah Wood, Viggo Mortensen</td>\n",
              "    </tr>\n",
              "    <tr>\n",
              "      <th>7</th>\n",
              "      <td>tt0110912</td>\n",
              "      <td>8</td>\n",
              "      <td>Pulp Fiction</td>\n",
              "      <td>1994</td>\n",
              "      <td>Quentin Tarantino (dir.), John Travolta, Uma T...</td>\n",
              "      <td>8.8</td>\n",
              "      <td>1918840</td>\n",
              "      <td>Quentin Tarantino</td>\n",
              "      <td>John Travolta, Uma Thurman</td>\n",
              "    </tr>\n",
              "    <tr>\n",
              "      <th>8</th>\n",
              "      <td>tt0060196</td>\n",
              "      <td>9</td>\n",
              "      <td>The Good, the Bad and the Ugly</td>\n",
              "      <td>1966</td>\n",
              "      <td>Sergio Leone (dir.), Clint Eastwood, Eli Wallach</td>\n",
              "      <td>8.8</td>\n",
              "      <td>721124</td>\n",
              "      <td>Sergio Leone</td>\n",
              "      <td>Clint Eastwood, Eli Wallach</td>\n",
              "    </tr>\n",
              "    <tr>\n",
              "      <th>9</th>\n",
              "      <td>tt0120737</td>\n",
              "      <td>10</td>\n",
              "      <td>The Lord of the Rings: The Fellowship of the Ring</td>\n",
              "      <td>2001</td>\n",
              "      <td>Peter Jackson (dir.), Elijah Wood, Ian McKellen</td>\n",
              "      <td>8.8</td>\n",
              "      <td>1739164</td>\n",
              "      <td>Peter Jackson</td>\n",
              "      <td>Elijah Wood, Ian McKellen</td>\n",
              "    </tr>\n",
              "  </tbody>\n",
              "</table>\n",
              "</div>"
            ],
            "text/plain": [
              "          id  rank  ...               director                         actors\n",
              "0  tt0111161     1  ...        Frank Darabont     Tim Robbins, Morgan Freeman\n",
              "1  tt0068646     2  ...  Francis Ford Coppola        Marlon Brando, Al Pacino\n",
              "2  tt0071562     3  ...  Francis Ford Coppola       Al Pacino, Robert De Niro\n",
              "3  tt0468569     4  ...     Christopher Nolan    Christian Bale, Heath Ledger\n",
              "4  tt0050083     5  ...          Sidney Lumet        Henry Fonda, Lee J. Cobb\n",
              "5  tt0108052     6  ...      Steven Spielberg      Liam Neeson, Ralph Fiennes\n",
              "6  tt0167260     7  ...         Peter Jackson    Elijah Wood, Viggo Mortensen\n",
              "7  tt0110912     8  ...     Quentin Tarantino      John Travolta, Uma Thurman\n",
              "8  tt0060196     9  ...          Sergio Leone     Clint Eastwood, Eli Wallach\n",
              "9  tt0120737    10  ...         Peter Jackson       Elijah Wood, Ian McKellen\n",
              "\n",
              "[10 rows x 9 columns]"
            ]
          },
          "metadata": {},
          "execution_count": 22
        }
      ]
    },
    {
      "cell_type": "markdown",
      "metadata": {
        "id": "cXRpXN79wuB_"
      },
      "source": [
        "#Movie Analysis\n",
        "\n",
        "An analysis of the top 10 directors and top 10 actors shows that they don't appear in the top 10 movies. Interestingly, the director that did Shawshank Redemption doesn't appear in the top 10 list. This shows that the director doesn't influence the rating of the movie. Same case applies for the actors. These features wouldn't be an influential feature in determining the rating of a movie. \n",
        "\n",
        "It's quite obvious that the movies with the highest ratings received the highest count as seen in the bar graph.\n",
        "\n",
        "The histogram displays a right skewed distribution showing a majority of the movies are ranked between a rating of 8 and 8.4\n"
      ],
      "id": "cXRpXN79wuB_"
    },
    {
      "cell_type": "code",
      "metadata": {
        "colab": {
          "base_uri": "https://localhost:8080/"
        },
        "id": "iRCwDs670r2W",
        "outputId": "f92dfc86-1558-4adb-9e0c-e9800162ff39"
      },
      "source": [
        "#Get the number of unique ratings\n",
        "len(Top250MoviesRefinedData3['imDbRating'].unique())"
      ],
      "id": "iRCwDs670r2W",
      "execution_count": 23,
      "outputs": [
        {
          "output_type": "execute_result",
          "data": {
            "text/plain": [
              "13"
            ]
          },
          "metadata": {},
          "execution_count": 23
        }
      ]
    },
    {
      "cell_type": "code",
      "metadata": {
        "colab": {
          "base_uri": "https://localhost:8080/",
          "height": 307
        },
        "id": "eaq9HuJ9eYc0",
        "outputId": "e55c4c33-fc11-4ff2-e484-3d630ff78f55"
      },
      "source": [
        "#Plot a bargraph of the Ratings\n",
        "sns.barplot(x='imDbRating', y='imDbRatingCount', data=Top250MoviesRefinedData3)"
      ],
      "id": "eaq9HuJ9eYc0",
      "execution_count": 24,
      "outputs": [
        {
          "output_type": "execute_result",
          "data": {
            "text/plain": [
              "<matplotlib.axes._subplots.AxesSubplot at 0x7f08d398a610>"
            ]
          },
          "metadata": {},
          "execution_count": 24
        },
        {
          "output_type": "display_data",
          "data": {
            "image/png": "[encoded data removed]",
            "text/plain": [
              "<Figure size 432x288 with 1 Axes>"
            ]
          },
          "metadata": {
            "needs_background": "light"
          }
        }
      ]
    },
    {
      "cell_type": "code",
      "metadata": {
        "colab": {
          "base_uri": "https://localhost:8080/",
          "height": 315
        },
        "id": "aAcehDB42RTU",
        "outputId": "bd732399-e359-4f8f-fe47-3226e07bdb1b"
      },
      "source": [
        "#Plot a Histogram\n",
        "Top250MoviesRefinedData3.hist(column='imDbRating', bins='auto')"
      ],
      "id": "aAcehDB42RTU",
      "execution_count": 25,
      "outputs": [
        {
          "output_type": "execute_result",
          "data": {
            "text/plain": [
              "array([[<matplotlib.axes._subplots.AxesSubplot object at 0x7f08d39885d0>]],\n",
              "      dtype=object)"
            ]
          },
          "metadata": {},
          "execution_count": 25
        },
        {
          "output_type": "display_data",
          "data": {
            "image/png": "[encoded data removed]",
            "text/plain": [
              "<Figure size 432x288 with 1 Axes>"
            ]
          },
          "metadata": {
            "needs_background": "light"
          }
        }
      ]
    },
    {
      "cell_type": "markdown",
      "metadata": {
        "id": "kidmtko0kpv2"
      },
      "source": [
        "#Modeling"
      ],
      "id": "kidmtko0kpv2"
    },
    {
      "cell_type": "code",
      "metadata": {
        "id": "27vhMYLam7xY"
      },
      "source": [
        "#Import modelling libraries\n",
        "from sklearn.model_selection import train_test_split\n",
        "\n",
        "from sklearn.linear_model import LinearRegression\n",
        "from sklearn.linear_model import Ridge\n",
        "from sklearn.tree import DecisionTreeRegressor\n",
        "from sklearn.ensemble import RandomForestRegressor\n",
        "from sklearn.svm import SVR\n",
        "from xgboost import XGBRegressor\n",
        "import lightgbm as lgb\n",
        "\n",
        "import sklearn.metrics as metrics\n",
        "from sklearn.metrics import mean_absolute_error\n",
        "from sklearn.metrics import mean_squared_error\n",
        "from sklearn.metrics import r2_score"
      ],
      "id": "27vhMYLam7xY",
      "execution_count": 26,
      "outputs": []
    },
    {
      "cell_type": "code",
      "metadata": {
        "colab": {
          "base_uri": "https://localhost:8080/"
        },
        "id": "YnQr-kM9kpFR",
        "outputId": "8c47a877-c97b-454c-d5ae-a4d541bb944f"
      },
      "source": [
        "# Create a model for the features\n",
        "X = Top250MoviesRefinedData3[['imDbRating', 'imDbRatingCount']]\n",
        "\n",
        "# Create a model for the target feature\n",
        "y = Top250MoviesRefinedData3['rank']\n",
        "print(X.shape)\n",
        "print(y.shape)\n"
      ],
      "id": "YnQr-kM9kpFR",
      "execution_count": 27,
      "outputs": [
        {
          "output_type": "stream",
          "name": "stdout",
          "text": [
            "(250, 2)\n",
            "(250,)\n"
          ]
        }
      ]
    },
    {
      "cell_type": "code",
      "metadata": {
        "id": "9XbWoJo-mu51"
      },
      "source": [
        "# Split the data into training set and test set\n",
        "X_train, X_test, y_train, y_test = train_test_split(X, y, test_size= 0.25)"
      ],
      "id": "9XbWoJo-mu51",
      "execution_count": 28,
      "outputs": []
    },
    {
      "cell_type": "code",
      "metadata": {
        "colab": {
          "base_uri": "https://localhost:8080/"
        },
        "id": "93ATDOzkqHvp",
        "outputId": "35c2d57d-d06c-4664-c16a-2bef9717be0c"
      },
      "source": [
        "#Compare the models\n",
        "#Linear Regression\n",
        "Linear_RegressionModel = LinearRegression().fit(X_train, y_train)\n",
        "# Predict using test set \n",
        "y_prediction = Linear_RegressionModel.predict(X_test)\n",
        "# Perform metrics on Linear Regression\n",
        "mae = metrics.mean_absolute_error(y_test, y_prediction)\n",
        "mse = metrics.mean_squared_error(y_test, y_prediction)\n",
        "# Print the metrics\n",
        "print('Linear Regression R2 squared:', metrics.r2_score(y_test, y_prediction))\n",
        "print('Linear Regression MAE: ', mae)\n",
        "print('Linear RegressionMSE: ', mse)\n",
        "\n",
        "#Ridge Regression\n",
        "RidgeModel = Ridge(alpha=1.0)\n",
        "RidgeModel.fit(X_train, y_train)\n",
        "# Predict using test set \n",
        "y_prediction = RidgeModel.predict(X_test)\n",
        "# Perform metrics on Ridge Regression\n",
        "mae = metrics.mean_absolute_error(y_test, y_prediction)\n",
        "mse = metrics.mean_squared_error(y_test, y_prediction)\n",
        "# Print the metrics\n",
        "print('Ridge Regression R2 squared:', metrics.r2_score(y_test, y_prediction))\n",
        "print('Ridge Regression MAE: ', mae)\n",
        "print('Ridge RegressionMSE: ', mse)\n",
        " \n",
        "#Decision Tree\n",
        "Decision_TreeModel = DecisionTreeRegressor(random_state = 42) \n",
        "Decision_TreeModel.fit(X_train,y_train)\n",
        "# Predict using test set \n",
        "y_prediction = Decision_TreeModel.predict(X_test)\n",
        "# Perform metrics on the Decision Tree\n",
        "mae = metrics.mean_absolute_error(y_test, y_prediction)\n",
        "mse = metrics.mean_squared_error(y_test, y_prediction)\n",
        "# Print the metrics\n",
        "print('Decision Tree R2 squared:',metrics.r2_score(y_test, y_prediction))\n",
        "print('Decision Tree MAE: ', mae)\n",
        "print('Decision Tree MSE: ', mse)\n",
        " \n",
        "#Support Vector\n",
        "SVRModel= SVR(kernel ='rbf')\n",
        "SVRModel.fit(X_train, y_train)\n",
        "# Predict the test set\n",
        "y_prediction = SVRModel.predict(X_test)\n",
        "# Perform metrics on SVR\n",
        "mae = metrics.mean_absolute_error(y_test, y_prediction)\n",
        "mse = metrics.mean_squared_error(y_test, y_prediction)\n",
        "# Printing the metrics\n",
        "print('SVR R2 squared:',metrics.r2_score(y_test, y_prediction))\n",
        "print('SVR MAE: ', mae)\n",
        "print('SVR MSE: ', mse)\n",
        " \n",
        "#Random Forest\n",
        "Random_ForestModel = RandomForestRegressor(random_state = 42) \n",
        "Random_ForestModel.fit(X_train,y_train)\n",
        "# Predict using test set \n",
        "y_prediction = Random_ForestModel.predict(X_test)\n",
        "# Perform metrics on the Random_Forest\n",
        "mae = metrics.mean_absolute_error(y_test, y_prediction)\n",
        "mse = metrics.mean_squared_error(y_test, y_prediction)\n",
        "# Print the metrics\n",
        "print('Random Forest R2 square:',metrics.r2_score(y_test, y_prediction))\n",
        "print('Random Forest MAE: ', mae)\n",
        "print('Random Forest MSE: ', mse)\n",
        " \n",
        "#XGBoost\n",
        "XGBoostModel = XGBRegressor(random_state = 42) \n",
        "XGBoostModel.fit(X_train,y_train)\n",
        "# Predict using test set \n",
        "y_prediction = XGBoostModel.predict(X_test)\n",
        "# Perform metrics on the XGBoost\n",
        "mae = metrics.mean_absolute_error(y_test, y_prediction)\n",
        "mse = metrics.mean_squared_error(y_test, y_prediction)\n",
        "# Print the metrics\n",
        "print('XGBoost R2 square:',metrics.r2_score(y_test, y_prediction))\n",
        "print('XGBoost Forest MAE: ', mae)\n",
        "print('XGBoost Forest MSE: ', mse)\n",
        " \n",
        "#LightGBM\n",
        "LightGBMModel = lgb.LGBMRegressor(random_state = 42) \n",
        "LightGBMModel.fit(X_train,y_train)\n",
        "# Predict using test set \n",
        "y_prediction = LightGBMModel.predict(X_test)\n",
        "# Perform metrics on the LightGBM\n",
        "mae = metrics.mean_absolute_error(y_test, y_prediction)\n",
        "mse = metrics.mean_squared_error(y_test, y_prediction)\n",
        "# Print the metrics\n",
        "print('LightGBM R2 squared:',metrics.r2_score(y_test, y_prediction))\n",
        "print('LightGBM Forest MAE: ', mae)\n",
        "print('LightGBM Forest MSE: ', mse)\n",
        "\n"
      ],
      "id": "93ATDOzkqHvp",
      "execution_count": 29,
      "outputs": [
        {
          "output_type": "stream",
          "name": "stdout",
          "text": [
            "Linear Regression R2 squared: 0.8412084943995697\n",
            "Linear Regression MAE:  22.86927484784167\n",
            "Linear RegressionMSE:  786.3881061637561\n",
            "Ridge Regression R2 squared: 0.8337639242464807\n",
            "Ridge Regression MAE:  24.57464019252979\n",
            "Ridge RegressionMSE:  823.2560822041256\n",
            "Decision Tree R2 squared: 0.9403487580918856\n",
            "Decision Tree MAE:  12.777777777777779\n",
            "Decision Tree MSE:  295.41269841269843\n",
            "SVR R2 squared: 0.14064189019387185\n",
            "SVR MAE:  56.566498420471746\n",
            "SVR MSE:  4255.825863805369\n",
            "Random Forest R2 square: 0.9462090568677889\n",
            "Random Forest MAE:  11.913015873015876\n",
            "Random Forest MSE:  266.39055873015883\n",
            "[18:16:05] WARNING: /workspace/src/objective/regression_obj.cu:152: reg:linear is now deprecated in favor of reg:squarederror.\n",
            "XGBoost R2 square: 0.9582535615805978\n",
            "XGBoost Forest MAE:  10.42197467031933\n",
            "XGBoost Forest MSE:  206.74218386922686\n",
            "LightGBM R2 squared: 0.9495447207832454\n",
            "LightGBM Forest MAE:  12.747612847315908\n",
            "LightGBM Forest MSE:  249.87124669671053\n"
          ]
        }
      ]
    },
    {
      "cell_type": "markdown",
      "metadata": {
        "id": "8pcJjYLh15Rf"
      },
      "source": [
        "#Model Comparison\n",
        "\n",
        "The algorithm that performs the best with a MAE score of 11, MSE of 192 and R2 of 0.94 is the Light GBM.\n",
        "\n"
      ],
      "id": "8pcJjYLh15Rf"
    },
    {
      "cell_type": "code",
      "metadata": {
        "colab": {
          "base_uri": "https://localhost:8080/"
        },
        "id": "_Xh1iOQJYhdE",
        "outputId": "d0e05915-c72a-4239-fe07-f0bd75a6d607"
      },
      "source": [
        "#Print the train and test scores\n",
        "print('Training accuracy {:.4f}'.format(LightGBMModel.score(X_train,y_train)))\n",
        "print('Testing accuracy {:.4f}'.format(LightGBMModel.score(X_test,y_test)))"
      ],
      "id": "_Xh1iOQJYhdE",
      "execution_count": 30,
      "outputs": [
        {
          "output_type": "stream",
          "name": "stdout",
          "text": [
            "Training accuracy 0.9684\n",
            "Testing accuracy 0.9495\n"
          ]
        }
      ]
    },
    {
      "cell_type": "code",
      "metadata": {
        "colab": {
          "base_uri": "https://localhost:8080/",
          "height": 312
        },
        "id": "V4q1G52oUTAY",
        "outputId": "9e65b34b-fe7f-477e-fec2-2a96499f67ea"
      },
      "source": [
        "#Plot feature importance\n",
        "lgb.plot_importance(LightGBMModel)"
      ],
      "id": "V4q1G52oUTAY",
      "execution_count": 31,
      "outputs": [
        {
          "output_type": "execute_result",
          "data": {
            "text/plain": [
              "<matplotlib.axes._subplots.AxesSubplot at 0x7f08c57aab90>"
            ]
          },
          "metadata": {},
          "execution_count": 31
        },
        {
          "output_type": "display_data",
          "data": {
            "image/png": "[encoded data removed]",
            "text/plain": [
              "<Figure size 432x288 with 1 Axes>"
            ]
          },
          "metadata": {
            "needs_background": "light"
          }
        }
      ]
    },
    {
      "cell_type": "code",
      "metadata": {
        "colab": {
          "base_uri": "https://localhost:8080/",
          "height": 285
        },
        "id": "8eWzazORXo4I",
        "outputId": "dbbe4c8d-871b-47e9-b5a9-cc390ed20051"
      },
      "source": [
        "# A visual representation of the model\n",
        "lgb.plot_tree(LightGBMModel,figsize=(30,40))"
      ],
      "id": "8eWzazORXo4I",
      "execution_count": 32,
      "outputs": [
        {
          "output_type": "execute_result",
          "data": {
            "text/plain": [
              "<matplotlib.axes._subplots.AxesSubplot at 0x7f08c3721510>"
            ]
          },
          "metadata": {},
          "execution_count": 32
        },
        {
          "output_type": "display_data",
          "data": {
            "image/png": "[encoded data removed]",
            "text/plain": [
              "<Figure size 2160x2880 with 1 Axes>"
            ]
          },
          "metadata": {
            "needs_background": "light"
          }
        }
      ]
    },
    {
      "cell_type": "markdown",
      "metadata": {
        "id": "hKext88eY5gL"
      },
      "source": [
        "#Model Analysis\n",
        "\n",
        "The most important feature is the number of ratings a movie receives.\n",
        "\n",
        "The training model has an accuracy of 97% whereas the test model has an accuracy of 95%."
      ],
      "id": "hKext88eY5gL"
    }
  ]
}